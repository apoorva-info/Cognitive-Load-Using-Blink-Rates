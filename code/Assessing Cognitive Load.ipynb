{
  "nbformat": 4,
  "nbformat_minor": 0,
  "metadata": {
    "colab": {
      "provenance": []
    },
    "kernelspec": {
      "name": "python3",
      "display_name": "Python 3"
    },
    "language_info": {
      "name": "python"
    }
  },
  "cells": [
    {
      "cell_type": "code",
      "source": [
        "import pandas as pd\n",
        "import numpy as np\n",
        "import os\n",
        "\n",
        "def mad(data):\n",
        "    \"\"\"Calculate the Median Absolute Deviation (MAD) for a pandas Series.\"\"\"\n",
        "    median = np.median(data)\n",
        "    deviations = np.abs(data - median)\n",
        "    mad_value = np.median(deviations)\n",
        "    return mad_value\n",
        "\n",
        "def process_csv(file_path):\n",
        "    \"\"\"Read a CSV file and calculate the MAD for each column.\"\"\"\n",
        "    try:\n",
        "        # Specify the delimiter as semicolon if needed\n",
        "        df = pd.read_csv(file_path, delimiter=';')\n",
        "\n",
        "        mad_values = {}\n",
        "\n",
        "        for column in df.columns:\n",
        "            if df[column].dtype in ['int64', 'float64']:  # Only calculate MAD for numeric columns\n",
        "                mad_values[column] = mad(df[column].dropna())\n",
        "\n",
        "        return mad_values\n",
        "    except Exception as e:\n",
        "        print(f\"Error processing file {file_path}: {e}\")\n",
        "        return {}\n",
        "\n",
        "def process_all_files(directory):\n",
        "    \"\"\"Process all CSV files in a given directory.\"\"\"\n",
        "    results = []\n",
        "\n",
        "    for filename in os.listdir(directory):\n",
        "        if filename.endswith(\".csv\"):\n",
        "            file_path = os.path.join(directory, filename)\n",
        "            print(f\"Processing file: {file_path}\")\n",
        "            mad_values = process_csv(file_path)\n",
        "            if mad_values:\n",
        "                for column, mad_value in mad_values.items():\n",
        "                    results.append({'File': filename, 'Column': column, 'MAD': mad_value})\n",
        "\n",
        "    return results\n",
        "\n",
        "# Specify the directory containing your CSV files\n",
        "directory = \"/content/Untitled Folder\"\n",
        "\n",
        "# Process all files and get MAD values\n",
        "mad_results = process_all_files(directory)\n",
        "\n",
        "# Convert results to DataFrame\n",
        "results_df = pd.DataFrame(mad_results)\n",
        "\n",
        "# Save results to a CSV file\n",
        "results_df.to_csv(\"mad_results.csv\", index=False)\n",
        "\n",
        "print(\"MAD values have been saved to mad_results.csv\")\n"
      ],
      "metadata": {
        "colab": {
          "base_uri": "https://localhost:8080/"
        },
        "id": "AtYhlaDgPVNs",
        "outputId": "8a0491f3-2bc0-4689-d1f0-6dcd9cc41bff"
      },
      "execution_count": null,
      "outputs": [
        {
          "output_type": "stream",
          "name": "stdout",
          "text": [
            "Processing file: /content/Untitled Folder/p3.test_blink_detection.csv\n",
            "Processing file: /content/Untitled Folder/p2.test_blink_detection.csv\n",
            "Processing file: /content/Untitled Folder/p5.test_blink_detection (2).csv\n",
            "Processing file: /content/Untitled Folder/p6.test_blink_detection.csv\n",
            "Processing file: /content/Untitled Folder/P1.test_blink_detection.csv\n",
            "MAD values have been saved to mad_results.csv\n"
          ]
        }
      ]
    },
    {
      "cell_type": "code",
      "source": [
        "import pandas as pd\n",
        "\n",
        "# Load the CSV file into a pandas DataFrame\n",
        "file_path = '/content/1_digit_span_2024-06-28_18h32.39.157.csv'  # Replace with your actual file path\n",
        "df = pd.read_csv(file_path)\n",
        "\n",
        "# List of columns to keep based on the descriptions provided\n",
        "columns_to_keep = ['sequence_started', 'sequence_ended', 'digit_sequence', 'result_box.text', 'confirm_input.rt', 'input_ended']\n",
        "\n",
        "\n",
        "# Filter the DataFrame to keep only the important columns\n",
        "df_cleaned = df[columns_to_keep]\n",
        "\n",
        "# Optional: Display the first few rows of the cleaned DataFrame to verify\n",
        "print(df_cleaned.head())\n",
        "\n",
        "# Optional: Save the cleaned DataFrame back to a new CSV file\n",
        "output_file_path = 'P1.csv'  # Replace with your desired output file path\n",
        "df_cleaned.to_csv(output_file_path, index=False)\n"
      ],
      "metadata": {
        "colab": {
          "base_uri": "https://localhost:8080/"
        },
        "id": "uDcatc5-Wjfd",
        "outputId": "f0c81a04-6613-4daf-b61a-62f4c426d8c8"
      },
      "execution_count": null,
      "outputs": [
        {
          "output_type": "stream",
          "name": "stdout",
          "text": [
            "  sequence_started   sequence_ended digit_sequence  result_box.text  \\\n",
            "0  18:33:06.608197              NaN            NaN              NaN   \n",
            "1              NaN              NaN            NaN              NaN   \n",
            "2              NaN  18:33:10.814007            NaN              NaN   \n",
            "3              NaN              NaN      [0, 8, 6]             86.0   \n",
            "4  18:33:13.839761              NaN            NaN              NaN   \n",
            "\n",
            "   confirm_input.rt      input_ended  \n",
            "0               NaN              NaN  \n",
            "1               NaN              NaN  \n",
            "2               NaN              NaN  \n",
            "3          2.874632  18:33:13.838597  \n",
            "4               NaN              NaN  \n"
          ]
        }
      ]
    },
    {
      "cell_type": "code",
      "source": [
        "import pandas as pd\n",
        "\n",
        "# Load the CSV file into a pandas DataFrame\n",
        "file_path = '/content/p3_digit_span_2024-06-28_20h02.33.631.csv'  # Replace with your actual file path\n",
        "df = pd.read_csv(file_path)\n",
        "\n",
        "# List of columns to keep based on the descriptions provided\n",
        "columns_to_keep = ['sequence_started', 'sequence_ended', 'digit_sequence', 'result_box.text', 'confirm_input.rt', 'input_ended']\n",
        "\n",
        "\n",
        "# Filter the DataFrame to keep only the important columns\n",
        "df_cleaned = df[columns_to_keep]\n",
        "\n",
        "# Optional: Display the first few rows of the cleaned DataFrame to verify\n",
        "print(df_cleaned.head())\n",
        "\n",
        "# Optional: Save the cleaned DataFrame back to a new CSV file\n",
        "output_file_path = 'P3.csv'  # Replace with your desired output file path\n",
        "df_cleaned.to_csv(output_file_path, index=False)"
      ],
      "metadata": {
        "colab": {
          "base_uri": "https://localhost:8080/"
        },
        "id": "wygYMzZmZhOX",
        "outputId": "f2cc8e7f-62aa-48c6-dd01-0e7479bde325"
      },
      "execution_count": null,
      "outputs": [
        {
          "output_type": "stream",
          "name": "stdout",
          "text": [
            "  sequence_started   sequence_ended digit_sequence result_box.text  \\\n",
            "0  20:02:44.504004              NaN            NaN             NaN   \n",
            "1              NaN              NaN            NaN             NaN   \n",
            "2              NaN              NaN            NaN             NaN   \n",
            "3              NaN              NaN            NaN             NaN   \n",
            "4              NaN  20:02:50.902330            NaN             NaN   \n",
            "\n",
            "   confirm_input.rt input_ended  \n",
            "0               NaN         NaN  \n",
            "1               NaN         NaN  \n",
            "2               NaN         NaN  \n",
            "3               NaN         NaN  \n",
            "4               NaN         NaN  \n"
          ]
        }
      ]
    },
    {
      "cell_type": "code",
      "source": [
        "import pandas as pd\n",
        "\n",
        "# Load the CSV file into a pandas DataFrame\n",
        "file_path = '/content/p4_digit_span_2024-06-28_20h19.04.036.csv'  # Replace with your actual file path\n",
        "df = pd.read_csv(file_path)\n",
        "\n",
        "# List of columns to keep based on the descriptions provided\n",
        "columns_to_keep = ['sequence_started', 'sequence_ended', 'digit_sequence', 'result_box.text', 'confirm_input.rt', 'input_ended']\n",
        "\n",
        "\n",
        "# Filter the DataFrame to keep only the important columns\n",
        "df_cleaned = df[columns_to_keep]\n",
        "\n",
        "# Optional: Display the first few rows of the cleaned DataFrame to verify\n",
        "print(df_cleaned.head())\n",
        "\n",
        "# Optional: Save the cleaned DataFrame back to a new CSV file\n",
        "output_file_path = 'P4.csv'  # Replace with your desired output file path\n",
        "df_cleaned.to_csv(output_file_path, index=False)"
      ],
      "metadata": {
        "colab": {
          "base_uri": "https://localhost:8080/"
        },
        "id": "ni-0OvtgZzoM",
        "outputId": "de09a82c-6913-4d2d-90a9-54e46d0d9cfe"
      },
      "execution_count": null,
      "outputs": [
        {
          "output_type": "stream",
          "name": "stdout",
          "text": [
            "  sequence_started   sequence_ended digit_sequence  result_box.text  \\\n",
            "0  20:19:35.457888              NaN            NaN              NaN   \n",
            "1              NaN              NaN            NaN              NaN   \n",
            "2              NaN              NaN            NaN              NaN   \n",
            "3              NaN              NaN            NaN              NaN   \n",
            "4              NaN  20:19:41.858417            NaN              NaN   \n",
            "\n",
            "   confirm_input.rt input_ended  \n",
            "0               NaN         NaN  \n",
            "1               NaN         NaN  \n",
            "2               NaN         NaN  \n",
            "3               NaN         NaN  \n",
            "4               NaN         NaN  \n"
          ]
        }
      ]
    },
    {
      "cell_type": "code",
      "source": [
        "import pandas as pd\n",
        "\n",
        "# Load the CSV file into a pandas DataFrame\n",
        "file_path = '/content/p5_digit_span_2024-06-28_20h29.51.749.csv'  # Replace with your actual file path\n",
        "df = pd.read_csv(file_path)\n",
        "\n",
        "# List of columns to keep based on the descriptions provided\n",
        "columns_to_keep = ['sequence_started', 'sequence_ended', 'digit_sequence', 'result_box.text', 'confirm_input.rt', 'input_ended']\n",
        "\n",
        "\n",
        "# Filter the DataFrame to keep only the important columns\n",
        "df_cleaned = df[columns_to_keep]\n",
        "\n",
        "# Optional: Display the first few rows of the cleaned DataFrame to verify\n",
        "print(df_cleaned.head())\n",
        "\n",
        "# Optional: Save the cleaned DataFrame back to a new CSV file\n",
        "output_file_path = 'P5.csv'  # Replace with your desired output file path\n",
        "df_cleaned.to_csv(output_file_path, index=False)"
      ],
      "metadata": {
        "colab": {
          "base_uri": "https://localhost:8080/"
        },
        "id": "Ufvx1kHmaSGa",
        "outputId": "b43a3076-150e-44d6-b9d3-9cc661542c0d"
      },
      "execution_count": null,
      "outputs": [
        {
          "output_type": "stream",
          "name": "stdout",
          "text": [
            "  sequence_started sequence_ended digit_sequence result_box.text  \\\n",
            "0  20:30:03.212770            NaN            NaN             NaN   \n",
            "1              NaN            NaN            NaN             NaN   \n",
            "2              NaN            NaN            NaN             NaN   \n",
            "3              NaN            NaN            NaN             NaN   \n",
            "4              NaN            NaN            NaN             NaN   \n",
            "\n",
            "   confirm_input.rt input_ended  \n",
            "0               NaN         NaN  \n",
            "1               NaN         NaN  \n",
            "2               NaN         NaN  \n",
            "3               NaN         NaN  \n",
            "4               NaN         NaN  \n"
          ]
        }
      ]
    },
    {
      "cell_type": "code",
      "source": [
        "import pandas as pd\n",
        "\n",
        "# Load the CSV file into a pandas DataFrame\n",
        "file_path = '/content/P2_digit_span_2024-06-28_19h52.16.260.csv'  # Replace with your actual file path\n",
        "df = pd.read_csv(file_path)\n",
        "\n",
        "# List of columns to keep based on the descriptions provided\n",
        "columns_to_keep = ['sequence_started', 'sequence_ended', 'digit_sequence', 'result_box.text', 'confirm_input.rt', 'input_ended']\n",
        "\n",
        "\n",
        "# Filter the DataFrame to keep only the important columns\n",
        "df_cleaned = df[columns_to_keep]\n",
        "\n",
        "# Optional: Display the first few rows of the cleaned DataFrame to verify\n",
        "print(df_cleaned.head())\n",
        "\n",
        "# Optional: Save the cleaned DataFrame back to a new CSV file\n",
        "output_file_path = 'P2.csv'  # Replace with your desired output file path\n",
        "df_cleaned.to_csv(output_file_path, index=False)"
      ],
      "metadata": {
        "colab": {
          "base_uri": "https://localhost:8080/"
        },
        "id": "kKOWAfjPabNH",
        "outputId": "600d93fb-4ac2-42b8-cc7f-07f54202bb09"
      },
      "execution_count": null,
      "outputs": [
        {
          "output_type": "stream",
          "name": "stdout",
          "text": [
            "  sequence_started   sequence_ended digit_sequence  result_box.text  \\\n",
            "0  19:52:35.169961              NaN            NaN              NaN   \n",
            "1              NaN              NaN            NaN              NaN   \n",
            "2              NaN  19:52:39.368223            NaN              NaN   \n",
            "3              NaN              NaN      [2, 0, 8]            208.0   \n",
            "4  19:52:44.285439              NaN            NaN              NaN   \n",
            "\n",
            "   confirm_input.rt      input_ended  \n",
            "0               NaN              NaN  \n",
            "1               NaN              NaN  \n",
            "2               NaN              NaN  \n",
            "3          4.809884  19:52:44.285439  \n",
            "4               NaN              NaN  \n"
          ]
        }
      ]
    },
    {
      "cell_type": "code",
      "source": [
        "import pandas as pd\n",
        "\n",
        "# Load the CSV file into a pandas DataFrame\n",
        "file_path = '/content/605495_digit_span_2024-06-23_20h15.30.218.csv'  # Replace with your actual file path\n",
        "df = pd.read_csv(file_path)\n",
        "\n",
        "# List of columns to keep based on the descriptions provided\n",
        "columns_to_keep = ['sequence_started', 'sequence_ended', 'digit_sequence', 'result_box.text', 'confirm_input.rt', 'input_ended']\n",
        "\n",
        "\n",
        "# Filter the DataFrame to keep only the important columns\n",
        "df_cleaned = df[columns_to_keep]\n",
        "\n",
        "# Optional: Display the first few rows of the cleaned DataFrame to verify\n",
        "print(df_cleaned.head())\n",
        "\n",
        "# Optional: Save the cleaned DataFrame back to a new CSV file\n",
        "output_file_path = 'P6.csv'  # Replace with your desired output file path\n",
        "df_cleaned.to_csv(output_file_path, index=False)"
      ],
      "metadata": {
        "colab": {
          "base_uri": "https://localhost:8080/"
        },
        "id": "CCaOU4kKbClm",
        "outputId": "318f9896-855c-4e14-be2e-2b14cb2794a9"
      },
      "execution_count": null,
      "outputs": [
        {
          "output_type": "stream",
          "name": "stdout",
          "text": [
            "  sequence_started sequence_ended digit_sequence  result_box.text  \\\n",
            "0              NaN            NaN            NaN              NaN   \n",
            "1  20:16:29.958001            NaN            NaN              NaN   \n",
            "2              NaN            NaN            NaN              NaN   \n",
            "3              NaN            NaN            NaN              NaN   \n",
            "4              NaN            NaN            NaN              NaN   \n",
            "\n",
            "   confirm_input.rt input_ended  \n",
            "0               NaN         NaN  \n",
            "1               NaN         NaN  \n",
            "2               NaN         NaN  \n",
            "3               NaN         NaN  \n",
            "4               NaN         NaN  \n"
          ]
        }
      ]
    },
    {
      "cell_type": "code",
      "source": [
        "import pandas as pd\n",
        "\n",
        "# Load the dataset\n",
        "df = pd.read_csv('/content/P1.csv')\n",
        "\n",
        "# Drop rows where either digit_sequence or result_box.text is empty\n",
        "df.dropna(subset=['digit_sequence', 'result_box.text'], inplace=True)\n",
        "\n",
        "# Function to clean and format digit_sequence\n",
        "def clean_digit_sequence(seq_str):\n",
        "    try:\n",
        "        # Convert string representation of list to actual list\n",
        "        seq_list = eval(seq_str)\n",
        "        # Convert list of integers to string of digits\n",
        "        seq_str_cleaned = ''.join(map(str, seq_list))\n",
        "        return seq_str_cleaned\n",
        "    except:\n",
        "        return None  # Return None if conversion fails\n",
        "\n",
        "# Clean and format digit_sequence column\n",
        "df['digit_sequence'] = df['digit_sequence'].apply(clean_digit_sequence)\n",
        "\n",
        "# Convert result_box.text to integer and then to string\n",
        "df['result_box.text'] = df['result_box.text'].astype(float).astype(int).astype(str)\n",
        "\n",
        "# Drop rows where cleaning failed (if any)\n",
        "df.dropna(subset=['digit_sequence'], inplace=True)\n",
        "\n",
        "# Save the cleaned dataset back to CSV\n",
        "df.to_csv('p11.csv', index=False)\n",
        "\n",
        "print(\"Dataset cleaned and saved as 'cleaned_dataset.csv'\")\n"
      ],
      "metadata": {
        "colab": {
          "base_uri": "https://localhost:8080/"
        },
        "id": "mGtKrp-Vb4Xg",
        "outputId": "4209156b-69d8-4a55-c3ad-672165b0d0e5"
      },
      "execution_count": null,
      "outputs": [
        {
          "output_type": "stream",
          "name": "stdout",
          "text": [
            "Dataset cleaned and saved as 'cleaned_dataset.csv'\n"
          ]
        }
      ]
    },
    {
      "cell_type": "code",
      "source": [
        "import pandas as pd\n",
        "\n",
        "# Load the dataset\n",
        "df = pd.read_csv('/content/P2.csv')\n",
        "\n",
        "# Drop rows where either digit_sequence or result_box.text is empty\n",
        "df.dropna(subset=['digit_sequence', 'result_box.text'], inplace=True)\n",
        "\n",
        "# Function to clean and format digit_sequence\n",
        "def clean_digit_sequence(seq_str):\n",
        "    try:\n",
        "        # Convert string representation of list to actual list\n",
        "        seq_list = eval(seq_str)\n",
        "        # Convert list of integers to string of digits\n",
        "        seq_str_cleaned = ''.join(map(str, seq_list))\n",
        "        return seq_str_cleaned\n",
        "    except:\n",
        "        return None  # Return None if conversion fails\n",
        "\n",
        "# Clean and format digit_sequence column\n",
        "df['digit_sequence'] = df['digit_sequence'].apply(clean_digit_sequence)\n",
        "\n",
        "# Convert result_box.text to integer and then to string\n",
        "df['result_box.text'] = df['result_box.text'].astype(float).astype(int).astype(str)\n",
        "\n",
        "# Drop rows where cleaning failed (if any)\n",
        "df.dropna(subset=['digit_sequence'], inplace=True)\n",
        "\n",
        "# Save the cleaned dataset back to CSV\n",
        "df.to_csv('p22.csv', index=False)\n",
        "\n",
        "print(\"Dataset cleaned and saved as 'cleaned_dataset.csv'\")"
      ],
      "metadata": {
        "colab": {
          "base_uri": "https://localhost:8080/"
        },
        "id": "lwZPcu7VhfK7",
        "outputId": "4ca55328-b04e-4843-88ef-12280c9c4fab"
      },
      "execution_count": null,
      "outputs": [
        {
          "output_type": "stream",
          "name": "stdout",
          "text": [
            "Dataset cleaned and saved as 'cleaned_dataset.csv'\n"
          ]
        }
      ]
    },
    {
      "cell_type": "code",
      "source": [
        "import pandas as pd\n",
        "\n",
        "# Load the dataset\n",
        "df = pd.read_csv('/content/P3.csv')\n",
        "\n",
        "# Drop rows where either digit_sequence or result_box.text is empty\n",
        "df.dropna(subset=['digit_sequence', 'result_box.text'], inplace=True)\n",
        "\n",
        "# Function to clean and format digit_sequence\n",
        "def clean_digit_sequence(seq_str):\n",
        "    try:\n",
        "        # Convert string representation of list to actual list\n",
        "        seq_list = eval(seq_str)\n",
        "        # Convert list of integers to string of digits\n",
        "        seq_str_cleaned = ''.join(map(str, seq_list))\n",
        "        return seq_str_cleaned\n",
        "    except:\n",
        "        return None  # Return None if conversion fails\n",
        "\n",
        "# Clean and format digit_sequence column\n",
        "df['digit_sequence'] = df['digit_sequence'].apply(clean_digit_sequence)\n",
        "\n",
        "# Convert result_box.text to integer and then to string\n",
        "def convert_to_numeric(value):\n",
        "    try:\n",
        "        numeric_value = int(value)\n",
        "        return str(numeric_value)\n",
        "    except ValueError:\n",
        "        return None\n",
        "\n",
        "df['result_box.text'] = df['result_box.text'].apply(convert_to_numeric)\n",
        "\n",
        "# Drop rows where cleaning failed (if any)\n",
        "df.dropna(subset=['digit_sequence'], inplace=True)\n",
        "\n",
        "# Save the cleaned dataset back to CSV\n",
        "df.to_csv('P33.csv', index=False)\n",
        "\n",
        "print(\"Dataset cleaned and saved as 'cleaned_dataset.csv'\")\n"
      ],
      "metadata": {
        "colab": {
          "base_uri": "https://localhost:8080/"
        },
        "id": "y-PaUWyJiUBw",
        "outputId": "5cb4031e-4029-42ff-b51f-47570ab444c1"
      },
      "execution_count": null,
      "outputs": [
        {
          "output_type": "stream",
          "name": "stdout",
          "text": [
            "Dataset cleaned and saved as 'cleaned_dataset.csv'\n"
          ]
        }
      ]
    },
    {
      "cell_type": "code",
      "source": [
        "import pandas as pd\n",
        "\n",
        "# Load the dataset\n",
        "df = pd.read_csv('/content/P4.csv')\n",
        "\n",
        "# Drop rows where either digit_sequence or result_box.text is empty\n",
        "df.dropna(subset=['digit_sequence', 'result_box.text'], inplace=True)\n",
        "\n",
        "# Function to clean and format digit_sequence\n",
        "def clean_digit_sequence(seq_str):\n",
        "    try:\n",
        "        # Convert string representation of list to actual list\n",
        "        seq_list = eval(seq_str)\n",
        "        # Convert list of integers to string of digits\n",
        "        seq_str_cleaned = ''.join(map(str, seq_list))\n",
        "        return seq_str_cleaned\n",
        "    except:\n",
        "        return None  # Return None if conversion fails\n",
        "\n",
        "# Clean and format digit_sequence column\n",
        "df['digit_sequence'] = df['digit_sequence'].apply(clean_digit_sequence)\n",
        "\n",
        "# Convert result_box.text to integer and then to string\n",
        "def convert_to_numeric(value):\n",
        "    try:\n",
        "        numeric_value = int(value)\n",
        "        return str(numeric_value)\n",
        "    except ValueError:\n",
        "        return None\n",
        "\n",
        "df['result_box.text'] = df['result_box.text'].apply(convert_to_numeric)\n",
        "\n",
        "# Drop rows where cleaning failed (if any)\n",
        "df.dropna(subset=['digit_sequence'], inplace=True)\n",
        "\n",
        "# Save the cleaned dataset back to CSV\n",
        "df.to_csv('P44.csv', index=False)\n",
        "\n",
        "print(\"Dataset cleaned and saved as 'cleaned_dataset.csv'\")\n"
      ],
      "metadata": {
        "colab": {
          "base_uri": "https://localhost:8080/"
        },
        "id": "KIds7joxi3c3",
        "outputId": "b3bb8ab9-dee4-46ef-c251-c397fc4ba0d7"
      },
      "execution_count": null,
      "outputs": [
        {
          "output_type": "stream",
          "name": "stdout",
          "text": [
            "Dataset cleaned and saved as 'cleaned_dataset.csv'\n"
          ]
        }
      ]
    },
    {
      "cell_type": "code",
      "source": [
        "import pandas as pd\n",
        "\n",
        "# Load the dataset\n",
        "df = pd.read_csv('/content/P5.csv')\n",
        "\n",
        "# Drop rows where either digit_sequence or result_box.text is empty\n",
        "df.dropna(subset=['digit_sequence', 'result_box.text'], inplace=True)\n",
        "\n",
        "# Function to clean and format digit_sequence\n",
        "def clean_digit_sequence(seq_str):\n",
        "    try:\n",
        "        # Convert string representation of list to actual list\n",
        "        seq_list = eval(seq_str)\n",
        "        # Convert list of integers to string of digits\n",
        "        seq_str_cleaned = ''.join(map(str, seq_list))\n",
        "        return seq_str_cleaned\n",
        "    except:\n",
        "        return None  # Return None if conversion fails\n",
        "\n",
        "# Clean and format digit_sequence column\n",
        "df['digit_sequence'] = df['digit_sequence'].apply(clean_digit_sequence)\n",
        "\n",
        "# Convert result_box.text to integer and then to string\n",
        "def convert_to_numeric(value):\n",
        "    try:\n",
        "        numeric_value = int(value)\n",
        "        return str(numeric_value)\n",
        "    except ValueError:\n",
        "        return None\n",
        "\n",
        "df['result_box.text'] = df['result_box.text'].apply(convert_to_numeric)\n",
        "\n",
        "# Drop rows where cleaning failed (if any)\n",
        "df.dropna(subset=['digit_sequence'], inplace=True)\n",
        "\n",
        "# Save the cleaned dataset back to CSV\n",
        "df.to_csv('P55.csv', index=False)\n",
        "\n",
        "print(\"Dataset cleaned and saved as 'cleaned_dataset.csv'\")"
      ],
      "metadata": {
        "colab": {
          "base_uri": "https://localhost:8080/"
        },
        "id": "uJTlzZbNjL8U",
        "outputId": "67cf06fd-1435-43f2-f90f-12157c4fcb6c"
      },
      "execution_count": null,
      "outputs": [
        {
          "output_type": "stream",
          "name": "stdout",
          "text": [
            "Dataset cleaned and saved as 'cleaned_dataset.csv'\n"
          ]
        }
      ]
    },
    {
      "cell_type": "code",
      "source": [
        "import pandas as pd\n",
        "\n",
        "# Load the dataset\n",
        "df = pd.read_csv('/content/P6.csv')\n",
        "\n",
        "# Drop rows where either digit_sequence or result_box.text is empty\n",
        "df.dropna(subset=['digit_sequence', 'result_box.text'], inplace=True)\n",
        "\n",
        "# Function to clean and format digit_sequence\n",
        "def clean_digit_sequence(seq_str):\n",
        "    try:\n",
        "        # Convert string representation of list to actual list\n",
        "        seq_list = eval(seq_str)\n",
        "        # Convert list of integers to string of digits\n",
        "        seq_str_cleaned = ''.join(map(str, seq_list))\n",
        "        return seq_str_cleaned\n",
        "    except:\n",
        "        return None  # Return None if conversion fails\n",
        "\n",
        "# Clean and format digit_sequence column\n",
        "df['digit_sequence'] = df['digit_sequence'].apply(clean_digit_sequence)\n",
        "\n",
        "# Convert result_box.text to integer and then to string\n",
        "def convert_to_numeric(value):\n",
        "    try:\n",
        "        numeric_value = int(value)\n",
        "        return str(numeric_value)\n",
        "    except ValueError:\n",
        "        return None\n",
        "\n",
        "df['result_box.text'] = df['result_box.text'].apply(convert_to_numeric)\n",
        "\n",
        "# Drop rows where cleaning failed (if any)\n",
        "df.dropna(subset=['digit_sequence'], inplace=True)\n",
        "\n",
        "# Save the cleaned dataset back to CSV\n",
        "df.to_csv('P66.csv', index=False)\n",
        "\n",
        "print(\"Dataset cleaned and saved as 'cleaned_dataset.csv'\")"
      ],
      "metadata": {
        "colab": {
          "base_uri": "https://localhost:8080/"
        },
        "id": "sdH3EL5gjcnD",
        "outputId": "e2c4654f-05db-47f6-c340-97b14e672f37"
      },
      "execution_count": null,
      "outputs": [
        {
          "output_type": "stream",
          "name": "stdout",
          "text": [
            "Dataset cleaned and saved as 'cleaned_dataset.csv'\n"
          ]
        }
      ]
    },
    {
      "cell_type": "code",
      "source": [
        "import pandas as pd\n",
        "\n",
        "# Load the cleaned dataset\n",
        "df = pd.read_csv('p11.csv')\n",
        "\n",
        "# Function to calculate accuracy\n",
        "def calculate_accuracy(row):\n",
        "    digit_sequence = row['digit_sequence']\n",
        "    result_box_text = row['result_box.text']\n",
        "    return int(digit_sequence == result_box_text)\n",
        "\n",
        "# Apply accuracy calculation row-wise\n",
        "df['is_correct'] = df.apply(calculate_accuracy, axis=1)\n",
        "\n",
        "# Calculate accuracy\n",
        "accuracy = df['is_correct'].mean() * 100  # Accuracy as percentage\n",
        "\n",
        "# Add accuracy to a new DataFrame with participant number\n",
        "participant_number = 'P1'  # Assuming participant number is P1\n",
        "accuracy_df = pd.DataFrame({'Participant': [participant_number], 'Accuracy': [accuracy]})\n",
        "\n",
        "# Save accuracy to CSV\n",
        "accuracy_df.to_csv(f'P_accuracy.csv', index=False)\n",
        "\n",
        "print(f'Accuracy saved for {participant_number} as {accuracy_df}')\n"
      ],
      "metadata": {
        "colab": {
          "base_uri": "https://localhost:8080/"
        },
        "id": "BnqMozMugzxL",
        "outputId": "341037c1-4504-4b63-9742-2b8a88120b68"
      },
      "execution_count": null,
      "outputs": [
        {
          "output_type": "stream",
          "name": "stdout",
          "text": [
            "Accuracy saved for P1 as   Participant   Accuracy\n",
            "0          P1  60.465116\n"
          ]
        }
      ]
    },
    {
      "cell_type": "code",
      "source": [
        "import pandas as pd\n",
        "\n",
        "# Load the existing accuracy file or create a new DataFrame if it doesn't exist\n",
        "try:\n",
        "    existing_df = pd.read_csv('P_accuracy.csv')\n",
        "except FileNotFoundError:\n",
        "    existing_df = pd.DataFrame(columns=['Participant', 'Accuracy'])\n",
        "\n",
        "# Load the cleaned dataset (assuming 'p22.csv' as the cleaned dataset)\n",
        "df = pd.read_csv('p22.csv')\n",
        "\n",
        "# Function to calculate accuracy\n",
        "def calculate_accuracy(row):\n",
        "    digit_sequence = row['digit_sequence']\n",
        "    result_box_text = row['result_box.text']\n",
        "    return int(digit_sequence == result_box_text)\n",
        "\n",
        "# Apply accuracy calculation row-wise\n",
        "df['is_correct'] = df.apply(calculate_accuracy, axis=1)\n",
        "\n",
        "# Calculate accuracy\n",
        "accuracy = df['is_correct'].mean() * 100  # Accuracy as percentage\n",
        "\n",
        "# Create a new DataFrame with the accuracy result for this participant\n",
        "participant_number = 'P2'  # Assuming participant number is P1\n",
        "accuracy_df = pd.DataFrame({'Participant': [participant_number], 'Accuracy': [accuracy]})\n",
        "\n",
        "# Append the new accuracy result to the existing DataFrame\n",
        "existing_df = pd.concat([existing_df, accuracy_df], ignore_index=True)\n",
        "\n",
        "# Save the updated accuracy file\n",
        "existing_df.to_csv('P_accuracy.csv', index=False)\n",
        "\n",
        "print(f'Accuracy saved for {participant_number} as {accuracy_df}')\n"
      ],
      "metadata": {
        "colab": {
          "base_uri": "https://localhost:8080/"
        },
        "id": "cKkaufexhm8E",
        "outputId": "c25075f0-a059-4c0f-e8bd-f7b58c557999"
      },
      "execution_count": null,
      "outputs": [
        {
          "output_type": "stream",
          "name": "stdout",
          "text": [
            "Accuracy saved for P2 as   Participant  Accuracy\n",
            "0          P2  32.55814\n"
          ]
        }
      ]
    },
    {
      "cell_type": "code",
      "source": [
        "import pandas as pd\n",
        "\n",
        "# Load the existing accuracy file or create a new DataFrame if it doesn't exist\n",
        "try:\n",
        "    existing_df = pd.read_csv('P_accuracy.csv')\n",
        "except FileNotFoundError:\n",
        "    existing_df = pd.DataFrame(columns=['Participant', 'Accuracy'])\n",
        "\n",
        "# Load the cleaned dataset (assuming 'p22.csv' as the cleaned dataset)\n",
        "df = pd.read_csv('P33.csv')\n",
        "\n",
        "# Function to calculate accuracy\n",
        "def calculate_accuracy(row):\n",
        "    digit_sequence = row['digit_sequence']\n",
        "    result_box_text = row['result_box.text']\n",
        "    return int(digit_sequence == result_box_text)\n",
        "\n",
        "# Apply accuracy calculation row-wise\n",
        "df['is_correct'] = df.apply(calculate_accuracy, axis=1)\n",
        "\n",
        "# Calculate accuracy\n",
        "accuracy = df['is_correct'].mean() * 100  # Accuracy as percentage\n",
        "\n",
        "# Create a new DataFrame with the accuracy result for this participant\n",
        "participant_number = 'P3'  # Assuming participant number is P1\n",
        "accuracy_df = pd.DataFrame({'Participant': [participant_number], 'Accuracy': [accuracy]})\n",
        "\n",
        "# Append the new accuracy result to the existing DataFrame\n",
        "existing_df = pd.concat([existing_df, accuracy_df], ignore_index=True)\n",
        "\n",
        "# Save the updated accuracy file\n",
        "existing_df.to_csv('P_accuracy.csv', index=False)\n",
        "\n",
        "print(f'Accuracy saved for {participant_number} as {accuracy_df}')\n"
      ],
      "metadata": {
        "colab": {
          "base_uri": "https://localhost:8080/"
        },
        "id": "_tT2eZlvitBN",
        "outputId": "7996d3da-92b1-4dac-8017-07612c642b8a"
      },
      "execution_count": null,
      "outputs": [
        {
          "output_type": "stream",
          "name": "stdout",
          "text": [
            "Accuracy saved for P3 as   Participant   Accuracy\n",
            "0          P3  14.634146\n"
          ]
        }
      ]
    },
    {
      "cell_type": "code",
      "source": [
        "import pandas as pd\n",
        "\n",
        "# Load the existing accuracy file or create a new DataFrame if it doesn't exist\n",
        "try:\n",
        "    existing_df = pd.read_csv('P_accuracy.csv')\n",
        "except FileNotFoundError:\n",
        "    existing_df = pd.DataFrame(columns=['Participant', 'Accuracy'])\n",
        "\n",
        "# Load the cleaned dataset (assuming 'p22.csv' as the cleaned dataset)\n",
        "df = pd.read_csv('P44.csv')\n",
        "\n",
        "# Function to calculate accuracy\n",
        "def calculate_accuracy(row):\n",
        "    digit_sequence = row['digit_sequence']\n",
        "    result_box_text = row['result_box.text']\n",
        "    return int(digit_sequence == result_box_text)\n",
        "\n",
        "# Apply accuracy calculation row-wise\n",
        "df['is_correct'] = df.apply(calculate_accuracy, axis=1)\n",
        "\n",
        "# Calculate accuracy\n",
        "accuracy = df['is_correct'].mean() * 100  # Accuracy as percentage\n",
        "\n",
        "# Create a new DataFrame with the accuracy result for this participant\n",
        "participant_number = 'P4'  # Assuming participant number is P1\n",
        "accuracy_df = pd.DataFrame({'Participant': [participant_number], 'Accuracy': [accuracy]})\n",
        "\n",
        "# Append the new accuracy result to the existing DataFrame\n",
        "existing_df = pd.concat([existing_df, accuracy_df], ignore_index=True)\n",
        "\n",
        "# Save the updated accuracy file\n",
        "existing_df.to_csv('P_accuracy.csv', index=False)\n",
        "\n",
        "print(f'Accuracy saved for {participant_number} as {accuracy_df}')"
      ],
      "metadata": {
        "colab": {
          "base_uri": "https://localhost:8080/"
        },
        "id": "wiK1k8cOi-RR",
        "outputId": "d36e8aec-197d-4c55-a9a6-9639bc643c07"
      },
      "execution_count": null,
      "outputs": [
        {
          "output_type": "stream",
          "name": "stdout",
          "text": [
            "Accuracy saved for P4 as   Participant  Accuracy\n",
            "0          P4  32.55814\n"
          ]
        }
      ]
    },
    {
      "cell_type": "code",
      "source": [
        "import pandas as pd\n",
        "\n",
        "# Load the existing accuracy file or create a new DataFrame if it doesn't exist\n",
        "try:\n",
        "    existing_df = pd.read_csv('P_accuracy.csv')\n",
        "except FileNotFoundError:\n",
        "    existing_df = pd.DataFrame(columns=['Participant', 'Accuracy'])\n",
        "\n",
        "# Load the cleaned dataset (assuming 'p22.csv' as the cleaned dataset)\n",
        "df = pd.read_csv('P55.csv')\n",
        "\n",
        "# Function to calculate accuracy\n",
        "def calculate_accuracy(row):\n",
        "    digit_sequence = row['digit_sequence']\n",
        "    result_box_text = row['result_box.text']\n",
        "    return int(digit_sequence == result_box_text)\n",
        "\n",
        "# Apply accuracy calculation row-wise\n",
        "df['is_correct'] = df.apply(calculate_accuracy, axis=1)\n",
        "\n",
        "# Calculate accuracy\n",
        "accuracy = df['is_correct'].mean() * 100  # Accuracy as percentage\n",
        "\n",
        "# Create a new DataFrame with the accuracy result for this participant\n",
        "participant_number = 'P5'  # Assuming participant number is P1\n",
        "accuracy_df = pd.DataFrame({'Participant': [participant_number], 'Accuracy': [accuracy]})\n",
        "\n",
        "# Append the new accuracy result to the existing DataFrame\n",
        "existing_df = pd.concat([existing_df, accuracy_df], ignore_index=True)\n",
        "\n",
        "# Save the updated accuracy file\n",
        "existing_df.to_csv('P_accuracy.csv', index=False)\n",
        "\n",
        "print(f'Accuracy saved for {participant_number} as {accuracy_df}')"
      ],
      "metadata": {
        "colab": {
          "base_uri": "https://localhost:8080/"
        },
        "id": "xM-WepTljP6P",
        "outputId": "f5931393-6a6d-486e-ac38-38cbd6f44b45"
      },
      "execution_count": null,
      "outputs": [
        {
          "output_type": "stream",
          "name": "stdout",
          "text": [
            "Accuracy saved for P5 as   Participant   Accuracy\n",
            "0          P5  41.860465\n"
          ]
        }
      ]
    },
    {
      "cell_type": "code",
      "source": [
        "import pandas as pd\n",
        "\n",
        "# Load the existing accuracy file or create a new DataFrame if it doesn't exist\n",
        "try:\n",
        "    existing_df = pd.read_csv('P_accuracy.csv')\n",
        "except FileNotFoundError:\n",
        "    existing_df = pd.DataFrame(columns=['Participant', 'Accuracy'])\n",
        "\n",
        "# Load the cleaned dataset (assuming 'p22.csv' as the cleaned dataset)\n",
        "df = pd.read_csv('P66.csv')\n",
        "\n",
        "# Function to calculate accuracy\n",
        "def calculate_accuracy(row):\n",
        "    digit_sequence = row['digit_sequence']\n",
        "    result_box_text = row['result_box.text']\n",
        "    return int(digit_sequence == result_box_text)\n",
        "\n",
        "# Apply accuracy calculation row-wise\n",
        "df['is_correct'] = df.apply(calculate_accuracy, axis=1)\n",
        "\n",
        "# Calculate accuracy\n",
        "accuracy = df['is_correct'].mean() * 100  # Accuracy as percentage\n",
        "\n",
        "# Create a new DataFrame with the accuracy result for this participant\n",
        "participant_number = 'P6'  # Assuming participant number is P1\n",
        "accuracy_df = pd.DataFrame({'Participant': [participant_number], 'Accuracy': [accuracy]})\n",
        "\n",
        "# Append the new accuracy result to the existing DataFrame\n",
        "existing_df = pd.concat([existing_df, accuracy_df], ignore_index=True)\n",
        "\n",
        "# Save the updated accuracy file\n",
        "existing_df.to_csv('P_accuracy.csv', index=False)\n",
        "\n",
        "print(f'Accuracy saved for {participant_number} as {accuracy_df}')"
      ],
      "metadata": {
        "colab": {
          "base_uri": "https://localhost:8080/"
        },
        "id": "DS_xbheejhUs",
        "outputId": "be9ba4ae-b61c-4aed-8896-48c1be941efa"
      },
      "execution_count": null,
      "outputs": [
        {
          "output_type": "stream",
          "name": "stdout",
          "text": [
            "Accuracy saved for P6 as   Participant   Accuracy\n",
            "0          P6  93.333333\n"
          ]
        }
      ]
    },
    {
      "cell_type": "code",
      "source": [
        "import csv\n",
        "import matplotlib.pyplot as plt\n",
        "\n",
        "# Step 1: Read data from CSV\n",
        "participants = []\n",
        "accuracy = []\n",
        "\n",
        "with open('/content/P_accuracy.csv', newline='') as csvfile:\n",
        "    reader = csv.DictReader(csvfile)\n",
        "    for row in reader:\n",
        "        participants.append(row['Participant'])\n",
        "        accuracy.append(float(row['Accuracy']))  # Convert accuracy to float\n",
        "\n",
        "# Step 2: Create the bar chart\n",
        "plt.figure(figsize=(10, 6))\n",
        "\n",
        "plt.bar(participants, accuracy, color='skyblue')\n",
        "plt.xlabel('Participants')\n",
        "plt.ylabel('Accuracy (%)')\n",
        "plt.title('Accuracy of Participants for the whole Experement')\n",
        "plt.ylim(0, 100)  # Optional: Set the y-axis limit to ensure accuracy values are within 0-100%\n",
        "plt.grid(True)  # Optional: Add gridlines for better readability\n",
        "\n",
        "plt.tight_layout()  # Optional: Adjust layout for better fit\n",
        "\n",
        "plt.show()\n"
      ],
      "metadata": {
        "colab": {
          "base_uri": "https://localhost:8080/",
          "height": 588
        },
        "id": "Up3rPmFWlDqC",
        "outputId": "02624e91-40cf-4b91-dc40-0187bb80ff0b"
      },
      "execution_count": null,
      "outputs": [
        {
          "output_type": "display_data",
          "data": {
            "text/plain": [
              "<Figure size 1000x600 with 1 Axes>"
            ],
            "image/png": "[encoded data removed]"
          },
          "metadata": {}
        }
      ]
    },
    {
      "cell_type": "code",
      "source": [
        "import pandas as pd\n",
        "import os\n",
        "\n",
        "# File name for combined accuracy CSV\n",
        "combined_accuracy_csv = 'allParticipants_combined_accuracy.csv'\n",
        "\n",
        "# Load the cleaned dataset, ensuring digit_sequence is read as string\n",
        "df = pd.read_csv('p11.csv', dtype={'digit_sequence': str})\n",
        "\n",
        "# Function to calculate accuracy based on number of digits\n",
        "def calculate_accuracy(row, num_digits):\n",
        "    digit_sequence = str(row['digit_sequence'])  # Ensure digit_sequence is treated as string\n",
        "    result_box_text = str(row['result_box.text'])  # Ensure result_box_text is treated as string\n",
        "\n",
        "    # Check accuracy based on number of digits\n",
        "    if len(digit_sequence) == num_digits:\n",
        "        return int(result_box_text.isdigit() and len(result_box_text) == num_digits)\n",
        "    else:\n",
        "        return None  # Return None for rows not matching the current num_digits\n",
        "\n",
        "# Initialize a list to store accuracy DataFrames\n",
        "accuracy_dfs = []\n",
        "\n",
        "# Calculate accuracy for each number of digits (3, 5, 8)\n",
        "for num_digits in [3, 5, 8]:\n",
        "    # Filter DataFrame for the current number of digits\n",
        "    subset_df = df[df['digit_sequence'].apply(lambda x: len(str(x)) == num_digits)]\n",
        "\n",
        "    # Apply accuracy calculation row-wise for the subset\n",
        "    subset_df['is_correct'] = subset_df.apply(lambda row: calculate_accuracy(row, num_digits), axis=1)\n",
        "\n",
        "    # Calculate accuracy percentage\n",
        "    subset_accuracy = subset_df['is_correct'].mean() * 100 if len(subset_df) > 0 else 0\n",
        "\n",
        "    # Create DataFrame for current number of digits accuracy\n",
        "    participant_number = 'P1'  # Assuming participant number is P1\n",
        "    accuracy_df = pd.DataFrame({'Participant': [participant_number], 'Digits': [num_digits], 'Accuracy': [subset_accuracy]})\n",
        "\n",
        "    # Append to list of accuracy DataFrames\n",
        "    accuracy_dfs.append(accuracy_df)\n",
        "\n",
        "# Concatenate all accuracy DataFrames into one\n",
        "combined_accuracy_df = pd.concat(accuracy_dfs, ignore_index=True)\n",
        "\n",
        "# Check if the combined accuracy CSV file already exists\n",
        "if os.path.exists(combined_accuracy_csv):\n",
        "    # Load existing data from CSV\n",
        "    existing_df = pd.read_csv(combined_accuracy_csv)\n",
        "\n",
        "    # Append new data to existing DataFrame\n",
        "    combined_accuracy_df = pd.concat([existing_df, combined_accuracy_df], ignore_index=True)\n",
        "\n",
        "# Save combined accuracy to CSV\n",
        "combined_accuracy_df.to_csv(combined_accuracy_csv, index=False)\n",
        "\n",
        "# Print confirmation\n",
        "print(f'Combined accuracies saved for all participants in {combined_accuracy_csv}:')\n",
        "print(combined_accuracy_df)\n"
      ],
      "metadata": {
        "colab": {
          "base_uri": "https://localhost:8080/"
        },
        "id": "ft6uK4RSmSKR",
        "outputId": "3a963630-9652-4dc6-a7e3-f45be83e72d0"
      },
      "execution_count": null,
      "outputs": [
        {
          "output_type": "stream",
          "name": "stdout",
          "text": [
            "Combined accuracies saved for all participants in allParticipants_combined_accuracy.csv:\n",
            "  Participant  Digits   Accuracy\n",
            "0          P1       3  73.333333\n",
            "1          P1       5  60.000000\n",
            "2          P1       8  61.538462\n"
          ]
        },
        {
          "output_type": "stream",
          "name": "stderr",
          "text": [
            "<ipython-input-21-454e4eccc1d7>:30: SettingWithCopyWarning: \n",
            "A value is trying to be set on a copy of a slice from a DataFrame.\n",
            "Try using .loc[row_indexer,col_indexer] = value instead\n",
            "\n",
            "See the caveats in the documentation: https://pandas.pydata.org/pandas-docs/stable/user_guide/indexing.html#returning-a-view-versus-a-copy\n",
            "  subset_df['is_correct'] = subset_df.apply(lambda row: calculate_accuracy(row, num_digits), axis=1)\n",
            "<ipython-input-21-454e4eccc1d7>:30: SettingWithCopyWarning: \n",
            "A value is trying to be set on a copy of a slice from a DataFrame.\n",
            "Try using .loc[row_indexer,col_indexer] = value instead\n",
            "\n",
            "See the caveats in the documentation: https://pandas.pydata.org/pandas-docs/stable/user_guide/indexing.html#returning-a-view-versus-a-copy\n",
            "  subset_df['is_correct'] = subset_df.apply(lambda row: calculate_accuracy(row, num_digits), axis=1)\n",
            "<ipython-input-21-454e4eccc1d7>:30: SettingWithCopyWarning: \n",
            "A value is trying to be set on a copy of a slice from a DataFrame.\n",
            "Try using .loc[row_indexer,col_indexer] = value instead\n",
            "\n",
            "See the caveats in the documentation: https://pandas.pydata.org/pandas-docs/stable/user_guide/indexing.html#returning-a-view-versus-a-copy\n",
            "  subset_df['is_correct'] = subset_df.apply(lambda row: calculate_accuracy(row, num_digits), axis=1)\n"
          ]
        }
      ]
    },
    {
      "cell_type": "code",
      "source": [
        "import pandas as pd\n",
        "import os\n",
        "\n",
        "# File name for combined accuracy CSV\n",
        "combined_accuracy_csv = 'allParticipants_combined_accuracy.csv'\n",
        "\n",
        "# Load the cleaned dataset, ensuring digit_sequence is read as string\n",
        "df = pd.read_csv('p22.csv', dtype={'digit_sequence': str})\n",
        "\n",
        "# Function to calculate accuracy based on number of digits\n",
        "def calculate_accuracy(row, num_digits):\n",
        "    digit_sequence = str(row['digit_sequence'])  # Ensure digit_sequence is treated as string\n",
        "    result_box_text = str(row['result_box.text'])  # Ensure result_box_text is treated as string\n",
        "\n",
        "    # Check accuracy based on number of digits\n",
        "    if len(digit_sequence) == num_digits:\n",
        "        return int(result_box_text.isdigit() and len(result_box_text) == num_digits)\n",
        "    else:\n",
        "        return None  # Return None for rows not matching the current num_digits\n",
        "\n",
        "# Initialize a list to store accuracy DataFrames\n",
        "accuracy_dfs = []\n",
        "\n",
        "# Calculate accuracy for each number of digits (3, 5, 8)\n",
        "for num_digits in [3, 5, 8]:\n",
        "    # Filter DataFrame for the current number of digits\n",
        "    subset_df = df[df['digit_sequence'].apply(lambda x: len(str(x)) == num_digits)]\n",
        "\n",
        "    # Apply accuracy calculation row-wise for the subset\n",
        "    subset_df['is_correct'] = subset_df.apply(lambda row: calculate_accuracy(row, num_digits), axis=1)\n",
        "\n",
        "    # Calculate accuracy percentage\n",
        "    subset_accuracy = subset_df['is_correct'].mean() * 100 if len(subset_df) > 0 else 0\n",
        "\n",
        "    # Create DataFrame for current number of digits accuracy\n",
        "    participant_number = 'P2'  # Assuming participant number is P1\n",
        "    accuracy_df = pd.DataFrame({'Participant': [participant_number], 'Digits': [num_digits], 'Accuracy': [subset_accuracy]})\n",
        "\n",
        "    # Append to list of accuracy DataFrames\n",
        "    accuracy_dfs.append(accuracy_df)\n",
        "\n",
        "# Concatenate all accuracy DataFrames into one\n",
        "combined_accuracy_df = pd.concat(accuracy_dfs, ignore_index=True)\n",
        "\n",
        "# Check if the combined accuracy CSV file already exists\n",
        "if os.path.exists(combined_accuracy_csv):\n",
        "    # Load existing data from CSV\n",
        "    existing_df = pd.read_csv(combined_accuracy_csv)\n",
        "\n",
        "    # Append new data to existing DataFrame\n",
        "    combined_accuracy_df = pd.concat([existing_df, combined_accuracy_df], ignore_index=True)\n",
        "\n",
        "# Save combined accuracy to CSV\n",
        "combined_accuracy_df.to_csv(combined_accuracy_csv, index=False)\n",
        "\n",
        "# Print confirmation\n",
        "print(f'Combined accuracies saved for all participants in {combined_accuracy_csv}:')\n",
        "print(combined_accuracy_df)\n"
      ],
      "metadata": {
        "colab": {
          "base_uri": "https://localhost:8080/"
        },
        "id": "bhAUbMwKtw9C",
        "outputId": "134b952b-f8cc-475a-db9d-95234400064f"
      },
      "execution_count": null,
      "outputs": [
        {
          "output_type": "stream",
          "name": "stdout",
          "text": [
            "Combined accuracies saved for all participants in allParticipants_combined_accuracy.csv:\n",
            "  Participant  Digits   Accuracy\n",
            "0          P1       3  73.333333\n",
            "1          P1       5  60.000000\n",
            "2          P1       8  61.538462\n",
            "3          P2       3  86.666667\n",
            "4          P2       5  60.000000\n",
            "5          P2       8   7.692308\n"
          ]
        },
        {
          "output_type": "stream",
          "name": "stderr",
          "text": [
            "<ipython-input-22-25f034facd42>:30: SettingWithCopyWarning: \n",
            "A value is trying to be set on a copy of a slice from a DataFrame.\n",
            "Try using .loc[row_indexer,col_indexer] = value instead\n",
            "\n",
            "See the caveats in the documentation: https://pandas.pydata.org/pandas-docs/stable/user_guide/indexing.html#returning-a-view-versus-a-copy\n",
            "  subset_df['is_correct'] = subset_df.apply(lambda row: calculate_accuracy(row, num_digits), axis=1)\n",
            "<ipython-input-22-25f034facd42>:30: SettingWithCopyWarning: \n",
            "A value is trying to be set on a copy of a slice from a DataFrame.\n",
            "Try using .loc[row_indexer,col_indexer] = value instead\n",
            "\n",
            "See the caveats in the documentation: https://pandas.pydata.org/pandas-docs/stable/user_guide/indexing.html#returning-a-view-versus-a-copy\n",
            "  subset_df['is_correct'] = subset_df.apply(lambda row: calculate_accuracy(row, num_digits), axis=1)\n",
            "<ipython-input-22-25f034facd42>:30: SettingWithCopyWarning: \n",
            "A value is trying to be set on a copy of a slice from a DataFrame.\n",
            "Try using .loc[row_indexer,col_indexer] = value instead\n",
            "\n",
            "See the caveats in the documentation: https://pandas.pydata.org/pandas-docs/stable/user_guide/indexing.html#returning-a-view-versus-a-copy\n",
            "  subset_df['is_correct'] = subset_df.apply(lambda row: calculate_accuracy(row, num_digits), axis=1)\n"
          ]
        }
      ]
    },
    {
      "cell_type": "code",
      "source": [
        "import pandas as pd\n",
        "import os\n",
        "\n",
        "# File name for combined accuracy CSV\n",
        "combined_accuracy_csv = 'allParticipants_combined_accuracy.csv'\n",
        "\n",
        "# Load the cleaned dataset, ensuring digit_sequence is read as string\n",
        "df = pd.read_csv('P33.csv', dtype={'digit_sequence': str})\n",
        "\n",
        "# Function to calculate accuracy based on number of digits\n",
        "def calculate_accuracy(row, num_digits):\n",
        "    digit_sequence = str(row['digit_sequence'])  # Ensure digit_sequence is treated as string\n",
        "    result_box_text = str(row['result_box.text'])  # Ensure result_box_text is treated as string\n",
        "\n",
        "    # Check accuracy based on number of digits\n",
        "    if len(digit_sequence) == num_digits:\n",
        "        return int(result_box_text.isdigit() and len(result_box_text) == num_digits)\n",
        "    else:\n",
        "        return None  # Return None for rows not matching the current num_digits\n",
        "\n",
        "# Initialize a list to store accuracy DataFrames\n",
        "accuracy_dfs = []\n",
        "\n",
        "# Calculate accuracy for each number of digits (3, 5, 8)\n",
        "for num_digits in [3, 5, 8]:\n",
        "    # Filter DataFrame for the current number of digits\n",
        "    subset_df = df[df['digit_sequence'].apply(lambda x: len(str(x)) == num_digits)]\n",
        "\n",
        "    # Apply accuracy calculation row-wise for the subset\n",
        "    subset_df['is_correct'] = subset_df.apply(lambda row: calculate_accuracy(row, num_digits), axis=1)\n",
        "\n",
        "    # Calculate accuracy percentage\n",
        "    subset_accuracy = subset_df['is_correct'].mean() * 100 if len(subset_df) > 0 else 0\n",
        "\n",
        "    # Create DataFrame for current number of digits accuracy\n",
        "    participant_number = 'P3'  # Assuming participant number is P1\n",
        "    accuracy_df = pd.DataFrame({'Participant': [participant_number], 'Digits': [num_digits], 'Accuracy': [subset_accuracy]})\n",
        "\n",
        "    # Append to list of accuracy DataFrames\n",
        "    accuracy_dfs.append(accuracy_df)\n",
        "\n",
        "# Concatenate all accuracy DataFrames into one\n",
        "combined_accuracy_df = pd.concat(accuracy_dfs, ignore_index=True)\n",
        "\n",
        "# Check if the combined accuracy CSV file already exists\n",
        "if os.path.exists(combined_accuracy_csv):\n",
        "    # Load existing data from CSV\n",
        "    existing_df = pd.read_csv(combined_accuracy_csv)\n",
        "\n",
        "    # Append new data to existing DataFrame\n",
        "    combined_accuracy_df = pd.concat([existing_df, combined_accuracy_df], ignore_index=True)\n",
        "\n",
        "# Save combined accuracy to CSV\n",
        "combined_accuracy_df.to_csv(combined_accuracy_csv, index=False)\n",
        "\n",
        "# Print confirmation\n",
        "print(f'Combined accuracies saved for all participants in {combined_accuracy_csv}:')\n",
        "print(combined_accuracy_df)\n"
      ],
      "metadata": {
        "colab": {
          "base_uri": "https://localhost:8080/"
        },
        "id": "3bDdP2DQuGQr",
        "outputId": "d9eff48d-6c7a-4564-eeec-2d78d1728d2f"
      },
      "execution_count": null,
      "outputs": [
        {
          "output_type": "stream",
          "name": "stdout",
          "text": [
            "Combined accuracies saved for all participants in allParticipants_combined_accuracy.csv:\n",
            "  Participant  Digits   Accuracy\n",
            "0          P1       3  73.333333\n",
            "1          P1       5  60.000000\n",
            "2          P1       8  61.538462\n",
            "3          P2       3  86.666667\n",
            "4          P2       5  60.000000\n",
            "5          P2       8   7.692308\n",
            "6          P3       3   0.000000\n",
            "7          P3       5   0.000000\n",
            "8          P3       8   0.000000\n"
          ]
        },
        {
          "output_type": "stream",
          "name": "stderr",
          "text": [
            "<ipython-input-23-f9571e4b3134>:30: SettingWithCopyWarning: \n",
            "A value is trying to be set on a copy of a slice from a DataFrame.\n",
            "Try using .loc[row_indexer,col_indexer] = value instead\n",
            "\n",
            "See the caveats in the documentation: https://pandas.pydata.org/pandas-docs/stable/user_guide/indexing.html#returning-a-view-versus-a-copy\n",
            "  subset_df['is_correct'] = subset_df.apply(lambda row: calculate_accuracy(row, num_digits), axis=1)\n",
            "<ipython-input-23-f9571e4b3134>:30: SettingWithCopyWarning: \n",
            "A value is trying to be set on a copy of a slice from a DataFrame.\n",
            "Try using .loc[row_indexer,col_indexer] = value instead\n",
            "\n",
            "See the caveats in the documentation: https://pandas.pydata.org/pandas-docs/stable/user_guide/indexing.html#returning-a-view-versus-a-copy\n",
            "  subset_df['is_correct'] = subset_df.apply(lambda row: calculate_accuracy(row, num_digits), axis=1)\n",
            "<ipython-input-23-f9571e4b3134>:30: SettingWithCopyWarning: \n",
            "A value is trying to be set on a copy of a slice from a DataFrame.\n",
            "Try using .loc[row_indexer,col_indexer] = value instead\n",
            "\n",
            "See the caveats in the documentation: https://pandas.pydata.org/pandas-docs/stable/user_guide/indexing.html#returning-a-view-versus-a-copy\n",
            "  subset_df['is_correct'] = subset_df.apply(lambda row: calculate_accuracy(row, num_digits), axis=1)\n"
          ]
        }
      ]
    },
    {
      "cell_type": "code",
      "source": [
        "import pandas as pd\n",
        "import os\n",
        "\n",
        "# File name for combined accuracy CSV\n",
        "combined_accuracy_csv = 'allParticipants_combined_accuracy.csv'\n",
        "\n",
        "# Load the cleaned dataset, ensuring digit_sequence is read as string\n",
        "df = pd.read_csv('P44.csv', dtype={'digit_sequence': str})\n",
        "\n",
        "# Function to calculate accuracy based on number of digits\n",
        "def calculate_accuracy(row, num_digits):\n",
        "    digit_sequence = str(row['digit_sequence'])  # Ensure digit_sequence is treated as string\n",
        "    result_box_text = str(row['result_box.text'])  # Ensure result_box_text is treated as string\n",
        "\n",
        "    # Check accuracy based on number of digits\n",
        "    if len(digit_sequence) == num_digits:\n",
        "        return int(result_box_text.isdigit() and len(result_box_text) == num_digits)\n",
        "    else:\n",
        "        return None  # Return None for rows not matching the current num_digits\n",
        "\n",
        "# Initialize a list to store accuracy DataFrames\n",
        "accuracy_dfs = []\n",
        "\n",
        "# Calculate accuracy for each number of digits (3, 5, 8)\n",
        "for num_digits in [3, 5, 8]:\n",
        "    # Filter DataFrame for the current number of digits\n",
        "    subset_df = df[df['digit_sequence'].apply(lambda x: len(str(x)) == num_digits)]\n",
        "\n",
        "    # Apply accuracy calculation row-wise for the subset\n",
        "    subset_df['is_correct'] = subset_df.apply(lambda row: calculate_accuracy(row, num_digits), axis=1)\n",
        "\n",
        "    # Calculate accuracy percentage\n",
        "    subset_accuracy = subset_df['is_correct'].mean() * 100 if len(subset_df) > 0 else 0\n",
        "\n",
        "    # Create DataFrame for current number of digits accuracy\n",
        "    participant_number = 'P4'  # Assuming participant number is P1\n",
        "    accuracy_df = pd.DataFrame({'Participant': [participant_number], 'Digits': [num_digits], 'Accuracy': [subset_accuracy]})\n",
        "\n",
        "    # Append to list of accuracy DataFrames\n",
        "    accuracy_dfs.append(accuracy_df)\n",
        "\n",
        "# Concatenate all accuracy DataFrames into one\n",
        "combined_accuracy_df = pd.concat(accuracy_dfs, ignore_index=True)\n",
        "\n",
        "# Check if the combined accuracy CSV file already exists\n",
        "if os.path.exists(combined_accuracy_csv):\n",
        "    # Load existing data from CSV\n",
        "    existing_df = pd.read_csv(combined_accuracy_csv)\n",
        "\n",
        "    # Append new data to existing DataFrame\n",
        "    combined_accuracy_df = pd.concat([existing_df, combined_accuracy_df], ignore_index=True)\n",
        "\n",
        "# Save combined accuracy to CSV\n",
        "combined_accuracy_df.to_csv(combined_accuracy_csv, index=False)\n",
        "\n",
        "# Print confirmation\n",
        "print(f'Combined accuracies saved for all participants in {combined_accuracy_csv}:')\n",
        "print(combined_accuracy_df)\n"
      ],
      "metadata": {
        "colab": {
          "base_uri": "https://localhost:8080/"
        },
        "id": "nZ3cQOrvuLTw",
        "outputId": "38815b7d-b242-4efc-eff6-b45b39cef1d0"
      },
      "execution_count": null,
      "outputs": [
        {
          "output_type": "stream",
          "name": "stdout",
          "text": [
            "Combined accuracies saved for all participants in allParticipants_combined_accuracy.csv:\n",
            "   Participant  Digits    Accuracy\n",
            "0           P1       3   73.333333\n",
            "1           P1       5   60.000000\n",
            "2           P1       8   61.538462\n",
            "3           P2       3   86.666667\n",
            "4           P2       5   60.000000\n",
            "5           P2       8    7.692308\n",
            "6           P3       3    0.000000\n",
            "7           P3       5    0.000000\n",
            "8           P3       8    0.000000\n",
            "9           P4       3  100.000000\n",
            "10          P4       5   53.846154\n",
            "11          P4       8    0.000000\n"
          ]
        },
        {
          "output_type": "stream",
          "name": "stderr",
          "text": [
            "<ipython-input-24-5bc8fa376d10>:30: SettingWithCopyWarning: \n",
            "A value is trying to be set on a copy of a slice from a DataFrame.\n",
            "Try using .loc[row_indexer,col_indexer] = value instead\n",
            "\n",
            "See the caveats in the documentation: https://pandas.pydata.org/pandas-docs/stable/user_guide/indexing.html#returning-a-view-versus-a-copy\n",
            "  subset_df['is_correct'] = subset_df.apply(lambda row: calculate_accuracy(row, num_digits), axis=1)\n",
            "<ipython-input-24-5bc8fa376d10>:30: SettingWithCopyWarning: \n",
            "A value is trying to be set on a copy of a slice from a DataFrame.\n",
            "Try using .loc[row_indexer,col_indexer] = value instead\n",
            "\n",
            "See the caveats in the documentation: https://pandas.pydata.org/pandas-docs/stable/user_guide/indexing.html#returning-a-view-versus-a-copy\n",
            "  subset_df['is_correct'] = subset_df.apply(lambda row: calculate_accuracy(row, num_digits), axis=1)\n",
            "<ipython-input-24-5bc8fa376d10>:30: SettingWithCopyWarning: \n",
            "A value is trying to be set on a copy of a slice from a DataFrame.\n",
            "Try using .loc[row_indexer,col_indexer] = value instead\n",
            "\n",
            "See the caveats in the documentation: https://pandas.pydata.org/pandas-docs/stable/user_guide/indexing.html#returning-a-view-versus-a-copy\n",
            "  subset_df['is_correct'] = subset_df.apply(lambda row: calculate_accuracy(row, num_digits), axis=1)\n"
          ]
        }
      ]
    },
    {
      "cell_type": "code",
      "source": [
        "import pandas as pd\n",
        "import os\n",
        "\n",
        "# File name for combined accuracy CSV\n",
        "combined_accuracy_csv = 'allParticipants_combined_accuracy.csv'\n",
        "\n",
        "# Load the cleaned dataset, ensuring digit_sequence is read as string\n",
        "df = pd.read_csv('P55.csv', dtype={'digit_sequence': str})\n",
        "\n",
        "# Function to calculate accuracy based on number of digits\n",
        "def calculate_accuracy(row, num_digits):\n",
        "    digit_sequence = str(row['digit_sequence'])  # Ensure digit_sequence is treated as string\n",
        "    result_box_text = str(row['result_box.text'])  # Ensure result_box_text is treated as string\n",
        "\n",
        "    # Check accuracy based on number of digits\n",
        "    if len(digit_sequence) == num_digits:\n",
        "        return int(result_box_text.isdigit() and len(result_box_text) == num_digits)\n",
        "    else:\n",
        "        return None  # Return None for rows not matching the current num_digits\n",
        "\n",
        "# Initialize a list to store accuracy DataFrames\n",
        "accuracy_dfs = []\n",
        "\n",
        "# Calculate accuracy for each number of digits (3, 5, 8)\n",
        "for num_digits in [3, 5, 8]:\n",
        "    # Filter DataFrame for the current number of digits\n",
        "    subset_df = df[df['digit_sequence'].apply(lambda x: len(str(x)) == num_digits)]\n",
        "\n",
        "    # Apply accuracy calculation row-wise for the subset\n",
        "    subset_df['is_correct'] = subset_df.apply(lambda row: calculate_accuracy(row, num_digits), axis=1)\n",
        "\n",
        "    # Calculate accuracy percentage\n",
        "    subset_accuracy = subset_df['is_correct'].mean() * 100 if len(subset_df) > 0 else 0\n",
        "\n",
        "    # Create DataFrame for current number of digits accuracy\n",
        "    participant_number = 'P5'  # Assuming participant number is P1\n",
        "    accuracy_df = pd.DataFrame({'Participant': [participant_number], 'Digits': [num_digits], 'Accuracy': [subset_accuracy]})\n",
        "\n",
        "    # Append to list of accuracy DataFrames\n",
        "    accuracy_dfs.append(accuracy_df)\n",
        "\n",
        "# Concatenate all accuracy DataFrames into one\n",
        "combined_accuracy_df = pd.concat(accuracy_dfs, ignore_index=True)\n",
        "\n",
        "# Check if the combined accuracy CSV file already exists\n",
        "if os.path.exists(combined_accuracy_csv):\n",
        "    # Load existing data from CSV\n",
        "    existing_df = pd.read_csv(combined_accuracy_csv)\n",
        "\n",
        "    # Append new data to existing DataFrame\n",
        "    combined_accuracy_df = pd.concat([existing_df, combined_accuracy_df], ignore_index=True)\n",
        "\n",
        "# Save combined accuracy to CSV\n",
        "combined_accuracy_df.to_csv(combined_accuracy_csv, index=False)\n",
        "\n",
        "# Print confirmation\n",
        "print(f'Combined accuracies saved for all participants in {combined_accuracy_csv}:')\n",
        "print(combined_accuracy_df)\n"
      ],
      "metadata": {
        "colab": {
          "base_uri": "https://localhost:8080/"
        },
        "id": "wnBIu9gpuRI7",
        "outputId": "728a1780-bb1f-49bc-d8c3-046fe59b57f2"
      },
      "execution_count": null,
      "outputs": [
        {
          "output_type": "stream",
          "name": "stdout",
          "text": [
            "Combined accuracies saved for all participants in allParticipants_combined_accuracy.csv:\n",
            "   Participant  Digits    Accuracy\n",
            "0           P1       3   73.333333\n",
            "1           P1       5   60.000000\n",
            "2           P1       8   61.538462\n",
            "3           P2       3   86.666667\n",
            "4           P2       5   60.000000\n",
            "5           P2       8    7.692308\n",
            "6           P3       3    0.000000\n",
            "7           P3       5    0.000000\n",
            "8           P3       8    0.000000\n",
            "9           P4       3  100.000000\n",
            "10          P4       5   53.846154\n",
            "11          P4       8    0.000000\n",
            "12          P5       3    0.000000\n",
            "13          P5       5    0.000000\n",
            "14          P5       8    0.000000\n"
          ]
        },
        {
          "output_type": "stream",
          "name": "stderr",
          "text": [
            "<ipython-input-25-57a848b7f919>:30: SettingWithCopyWarning: \n",
            "A value is trying to be set on a copy of a slice from a DataFrame.\n",
            "Try using .loc[row_indexer,col_indexer] = value instead\n",
            "\n",
            "See the caveats in the documentation: https://pandas.pydata.org/pandas-docs/stable/user_guide/indexing.html#returning-a-view-versus-a-copy\n",
            "  subset_df['is_correct'] = subset_df.apply(lambda row: calculate_accuracy(row, num_digits), axis=1)\n",
            "<ipython-input-25-57a848b7f919>:30: SettingWithCopyWarning: \n",
            "A value is trying to be set on a copy of a slice from a DataFrame.\n",
            "Try using .loc[row_indexer,col_indexer] = value instead\n",
            "\n",
            "See the caveats in the documentation: https://pandas.pydata.org/pandas-docs/stable/user_guide/indexing.html#returning-a-view-versus-a-copy\n",
            "  subset_df['is_correct'] = subset_df.apply(lambda row: calculate_accuracy(row, num_digits), axis=1)\n",
            "<ipython-input-25-57a848b7f919>:30: SettingWithCopyWarning: \n",
            "A value is trying to be set on a copy of a slice from a DataFrame.\n",
            "Try using .loc[row_indexer,col_indexer] = value instead\n",
            "\n",
            "See the caveats in the documentation: https://pandas.pydata.org/pandas-docs/stable/user_guide/indexing.html#returning-a-view-versus-a-copy\n",
            "  subset_df['is_correct'] = subset_df.apply(lambda row: calculate_accuracy(row, num_digits), axis=1)\n"
          ]
        }
      ]
    },
    {
      "cell_type": "code",
      "source": [
        "import pandas as pd\n",
        "import os\n",
        "\n",
        "# File name for combined accuracy CSV\n",
        "combined_accuracy_csv = 'allParticipants_combined_accuracy.csv'\n",
        "\n",
        "# Load the cleaned dataset, ensuring digit_sequence is read as string\n",
        "df = pd.read_csv('P66.csv', dtype={'digit_sequence': str})\n",
        "\n",
        "# Function to calculate accuracy based on number of digits\n",
        "def calculate_accuracy(row, num_digits):\n",
        "    digit_sequence = str(row['digit_sequence'])  # Ensure digit_sequence is treated as string\n",
        "    result_box_text = str(row['result_box.text'])  # Ensure result_box_text is treated as string\n",
        "\n",
        "    # Check accuracy based on number of digits\n",
        "    if len(digit_sequence) == num_digits:\n",
        "        return int(result_box_text.isdigit() and len(result_box_text) == num_digits)\n",
        "    else:\n",
        "        return None  # Return None for rows not matching the current num_digits\n",
        "\n",
        "# Initialize a list to store accuracy DataFrames\n",
        "accuracy_dfs = []\n",
        "\n",
        "# Calculate accuracy for each number of digits (3, 5, 8)\n",
        "for num_digits in [3, 5, 8]:\n",
        "    # Filter DataFrame for the current number of digits\n",
        "    subset_df = df[df['digit_sequence'].apply(lambda x: len(str(x)) == num_digits)]\n",
        "\n",
        "    # Apply accuracy calculation row-wise for the subset\n",
        "    subset_df['is_correct'] = subset_df.apply(lambda row: calculate_accuracy(row, num_digits), axis=1)\n",
        "\n",
        "    # Calculate accuracy percentage\n",
        "    subset_accuracy = subset_df['is_correct'].mean() * 100 if len(subset_df) > 0 else 0\n",
        "\n",
        "    # Create DataFrame for current number of digits accuracy\n",
        "    participant_number = 'P6'  # Assuming participant number is P1\n",
        "    accuracy_df = pd.DataFrame({'Participant': [participant_number], 'Digits': [num_digits], 'Accuracy': [subset_accuracy]})\n",
        "\n",
        "    # Append to list of accuracy DataFrames\n",
        "    accuracy_dfs.append(accuracy_df)\n",
        "\n",
        "# Concatenate all accuracy DataFrames into one\n",
        "combined_accuracy_df = pd.concat(accuracy_dfs, ignore_index=True)\n",
        "\n",
        "# Check if the combined accuracy CSV file already exists\n",
        "if os.path.exists(combined_accuracy_csv):\n",
        "    # Load existing data from CSV\n",
        "    existing_df = pd.read_csv(combined_accuracy_csv)\n",
        "\n",
        "    # Append new data to existing DataFrame\n",
        "    combined_accuracy_df = pd.concat([existing_df, combined_accuracy_df], ignore_index=True)\n",
        "\n",
        "# Save combined accuracy to CSV\n",
        "combined_accuracy_df.to_csv(combined_accuracy_csv, index=False)\n",
        "\n",
        "# Print confirmation\n",
        "print(f'Combined accuracies saved for all participants in {combined_accuracy_csv}:')\n",
        "print(combined_accuracy_df)\n"
      ],
      "metadata": {
        "colab": {
          "base_uri": "https://localhost:8080/"
        },
        "id": "UUNVV3IHuU2l",
        "outputId": "48d12d06-6f12-494f-f7cc-775d4d36854c"
      },
      "execution_count": null,
      "outputs": [
        {
          "output_type": "stream",
          "name": "stdout",
          "text": [
            "Combined accuracies saved for all participants in allParticipants_combined_accuracy.csv:\n",
            "   Participant  Digits    Accuracy\n",
            "0           P1       3   73.333333\n",
            "1           P1       5   60.000000\n",
            "2           P1       8   61.538462\n",
            "3           P2       3   86.666667\n",
            "4           P2       5   60.000000\n",
            "5           P2       8    7.692308\n",
            "6           P3       3    0.000000\n",
            "7           P3       5    0.000000\n",
            "8           P3       8    0.000000\n",
            "9           P4       3  100.000000\n",
            "10          P4       5   53.846154\n",
            "11          P4       8    0.000000\n",
            "12          P5       3    0.000000\n",
            "13          P5       5    0.000000\n",
            "14          P5       8    0.000000\n",
            "15          P6       3   93.333333\n",
            "16          P6       5  100.000000\n",
            "17          P6       8  100.000000\n"
          ]
        },
        {
          "output_type": "stream",
          "name": "stderr",
          "text": [
            "<ipython-input-26-39e263c680f0>:30: SettingWithCopyWarning: \n",
            "A value is trying to be set on a copy of a slice from a DataFrame.\n",
            "Try using .loc[row_indexer,col_indexer] = value instead\n",
            "\n",
            "See the caveats in the documentation: https://pandas.pydata.org/pandas-docs/stable/user_guide/indexing.html#returning-a-view-versus-a-copy\n",
            "  subset_df['is_correct'] = subset_df.apply(lambda row: calculate_accuracy(row, num_digits), axis=1)\n",
            "<ipython-input-26-39e263c680f0>:30: SettingWithCopyWarning: \n",
            "A value is trying to be set on a copy of a slice from a DataFrame.\n",
            "Try using .loc[row_indexer,col_indexer] = value instead\n",
            "\n",
            "See the caveats in the documentation: https://pandas.pydata.org/pandas-docs/stable/user_guide/indexing.html#returning-a-view-versus-a-copy\n",
            "  subset_df['is_correct'] = subset_df.apply(lambda row: calculate_accuracy(row, num_digits), axis=1)\n",
            "<ipython-input-26-39e263c680f0>:30: SettingWithCopyWarning: \n",
            "A value is trying to be set on a copy of a slice from a DataFrame.\n",
            "Try using .loc[row_indexer,col_indexer] = value instead\n",
            "\n",
            "See the caveats in the documentation: https://pandas.pydata.org/pandas-docs/stable/user_guide/indexing.html#returning-a-view-versus-a-copy\n",
            "  subset_df['is_correct'] = subset_df.apply(lambda row: calculate_accuracy(row, num_digits), axis=1)\n"
          ]
        }
      ]
    },
    {
      "cell_type": "code",
      "source": [
        "import pandas as pd\n",
        "import matplotlib.pyplot as plt\n",
        "\n",
        "# Load combined accuracy data from CSV\n",
        "combined_accuracy_csv = 'allParticipants_combined_accuracy.csv'\n",
        "df = pd.read_csv(combined_accuracy_csv)\n",
        "\n",
        "# Group by 'Participant'\n",
        "grouped = df.groupby('Participant')\n",
        "\n",
        "# Iterate over each participant and plot bar chart\n",
        "for participant, data in grouped:\n",
        "    digits = data['Digits']\n",
        "    accuracy = data['Accuracy']\n",
        "\n",
        "    # Plotting the bar chart for current participant\n",
        "    plt.figure(figsize=(8, 6))\n",
        "    plt.bar(digits, accuracy, color='skyblue')\n",
        "    plt.xlabel('Number of Digits')\n",
        "    plt.ylabel('Accuracy (%)')\n",
        "    plt.title(f'Accuracy for Participant {participant}')\n",
        "    plt.xticks(digits)\n",
        "    plt.ylim(0, 100)  # Set y-axis limit from 0 to 100\n",
        "    plt.grid(axis='y', linestyle='--', alpha=0.7)\n",
        "    plt.tight_layout()\n",
        "\n",
        "    # Save the plot as an image (optional)\n",
        "    plt.savefig(f'participant_{participant}_accuracy.png')\n",
        "\n",
        "    # Display the plot\n",
        "    plt.show()\n"
      ],
      "metadata": {
        "colab": {
          "base_uri": "https://localhost:8080/",
          "height": 1000
        },
        "id": "LT8qjHtUuie7",
        "outputId": "80fdc0b7-1d19-43ec-bc96-1db3bda64e37"
      },
      "execution_count": null,
      "outputs": [
        {
          "output_type": "display_data",
          "data": {
            "text/plain": [
              "<Figure size 800x600 with 1 Axes>"
            ],
            "image/png": "[encoded data removed]"
          },
          "metadata": {}
        },
        {
          "output_type": "display_data",
          "data": {
            "text/plain": [
              "<Figure size 800x600 with 1 Axes>"
            ],
            "image/png": "[encoded data removed]"
          },
          "metadata": {}
        },
        {
          "output_type": "display_data",
          "data": {
            "text/plain": [
              "<Figure size 800x600 with 1 Axes>"
            ],
            "image/png": "[encoded data removed]"
          },
          "metadata": {}
        },
        {
          "output_type": "display_data",
          "data": {
            "text/plain": [
              "<Figure size 800x600 with 1 Axes>"
            ],
            "image/png": "[encoded data removed]"
          },
          "metadata": {}
        },
        {
          "output_type": "display_data",
          "data": {
            "text/plain": [
              "<Figure size 800x600 with 1 Axes>"
            ],
            "image/png": "[encoded data removed]"
          },
          "metadata": {}
        },
        {
          "output_type": "display_data",
          "data": {
            "text/plain": [
              "<Figure size 800x600 with 1 Axes>"
            ],
            "image/png": "[encoded data removed]"
          },
          "metadata": {}
        }
      ]
    },
    {
      "cell_type": "code",
      "source": [
        "import pandas as pd\n",
        "\n",
        "# Load combined accuracy data from CSV\n",
        "combined_accuracy_csv = 'allParticipants_combined_accuracy.csv'\n",
        "df = pd.read_csv(combined_accuracy_csv)\n",
        "\n",
        "# Calculate total average accuracy\n",
        "total_average_accuracy = df['Accuracy'].mean()\n",
        "\n",
        "print(f'Total Average Accuracy: {total_average_accuracy:.2f}%')\n"
      ],
      "metadata": {
        "colab": {
          "base_uri": "https://localhost:8080/"
        },
        "id": "nV3xw2BhvuEo",
        "outputId": "8f7563db-2aaf-49dc-9b96-943916cbac27"
      },
      "execution_count": null,
      "outputs": [
        {
          "output_type": "stream",
          "name": "stdout",
          "text": [
            "Total Average Accuracy: 44.25%\n"
          ]
        }
      ]
    },
    {
      "cell_type": "markdown",
      "source": [
        "# Observation: The total average accuracy of 44.25% represents the overall correctness\n",
        "# across all participants and digit sequence lengths (3, 5, and 8 digits). This metric\n",
        "# provides insight into the overall performance of the transcription or recognition\n",
        "# process, suggesting areas for potential improvement or refinement in data processing\n",
        "# methodologies."
      ],
      "metadata": {
        "id": "9jQleh55wGe5"
      }
    },
    {
      "cell_type": "code",
      "source": [
        "import pandas as pd\n",
        "import numpy as np\n",
        "import matplotlib.pyplot as plt\n",
        "\n",
        "# Load combined accuracy data from CSV\n",
        "combined_accuracy_csv = 'allParticipants_combined_accuracy.csv'\n",
        "df = pd.read_csv(combined_accuracy_csv)\n",
        "\n",
        "# Calculate mean and standard deviation of Accuracy\n",
        "mean_accuracy = df['Accuracy'].mean()\n",
        "std_accuracy = df['Accuracy'].std()\n",
        "\n",
        "# Plotting the bar chart\n",
        "plt.figure(figsize=(8, 6))\n",
        "plt.bar(['Total Average'], [mean_accuracy], yerr=[std_accuracy], capsize=10, color='skyblue', alpha=0.7)\n",
        "plt.xlabel('Participant')\n",
        "plt.ylabel('Accuracy (%)')\n",
        "plt.title('Total Average Accuracy with Standard Deviation')\n",
        "plt.ylim(0, 100)  # Set y-axis limit from 0 to 100\n",
        "plt.grid(axis='y', linestyle='--', alpha=0.7)\n",
        "plt.tight_layout()\n",
        "\n",
        "# Annotate with mean and SD values\n",
        "plt.text(0, mean_accuracy + 2, f'Mean: {mean_accuracy:.2f}%', ha='center', va='bottom', fontsize=12)\n",
        "plt.text(0, mean_accuracy - 5, f'SD: {std_accuracy:.2f}', ha='center', va='bottom', fontsize=12)\n",
        "\n",
        "# Save the plot as an image (optional)\n",
        "plt.savefig('total_average_accuracy_bar_chart.png')\n",
        "\n",
        "# Display the plot\n",
        "plt.show()\n"
      ],
      "metadata": {
        "colab": {
          "base_uri": "https://localhost:8080/",
          "height": 607
        },
        "id": "AlE-NnZJwKNB",
        "outputId": "7ee986f9-5bf9-436e-a400-2d531f1a319c"
      },
      "execution_count": null,
      "outputs": [
        {
          "output_type": "display_data",
          "data": {
            "text/plain": [
              "<Figure size 800x600 with 1 Axes>"
            ],
            "image/png": "[encoded data removed]"
          },
          "metadata": {}
        }
      ]
    },
    {
      "cell_type": "code",
      "source": [
        "import pandas as pd\n",
        "import numpy as np\n",
        "import matplotlib.pyplot as plt\n",
        "\n",
        "# Load combined accuracy data from CSV\n",
        "combined_accuracy_csv = 'allParticipants_combined_accuracy.csv'\n",
        "df = pd.read_csv(combined_accuracy_csv)\n",
        "\n",
        "# Group by 'Participant'\n",
        "grouped = df.groupby('Participant')\n",
        "\n",
        "# Initialize lists to store participant names, mean accuracies, and standard deviations\n",
        "participants = []\n",
        "mean_accuracies = []\n",
        "std_accuracies = []\n",
        "\n",
        "# Calculate mean and standard deviation for each participant\n",
        "for participant, data in grouped:\n",
        "    participants.append(participant)\n",
        "    mean_accuracy = data['Accuracy'].mean()\n",
        "    std_accuracy = data['Accuracy'].std()\n",
        "    mean_accuracies.append(mean_accuracy)\n",
        "    std_accuracies.append(std_accuracy)\n",
        "\n",
        "# Plotting bar charts for each participant\n",
        "fig, ax = plt.subplots(figsize=(10, 6))\n",
        "\n",
        "x = np.arange(len(participants))  # the label locations\n",
        "width = 0.35  # the width of the bars\n",
        "\n",
        "bars = ax.bar(x, mean_accuracies, width, yerr=std_accuracies, capsize=10, label='Accuracy', color='skyblue', alpha=0.7)\n",
        "\n",
        "# Add some text for labels, title and custom x-axis tick labels, etc.\n",
        "ax.set_xlabel('Participant')\n",
        "ax.set_ylabel('Accuracy (%)')\n",
        "ax.set_title('Average Accuracy with Standard Deviation for Each Participant')\n",
        "ax.set_xticks(x)\n",
        "ax.set_xticklabels(participants)\n",
        "ax.legend()\n",
        "\n",
        "# Annotate with mean and SD values\n",
        "for bar, mean, std in zip(bars, mean_accuracies, std_accuracies):\n",
        "    ax.text(bar.get_x() + bar.get_width() / 2, bar.get_height() + 2, f'Mean: {mean:.2f}%', ha='center', va='bottom', fontsize=10)\n",
        "    ax.text(bar.get_x() + bar.get_width() / 2, bar.get_height() - 5, f'SD: {std:.2f}', ha='center', va='bottom', fontsize=10)\n",
        "\n",
        "# Save the plot as an image (optional)\n",
        "plt.savefig('participant_average_accuracy_bar_charts.png')\n",
        "\n",
        "# Display the plot\n",
        "plt.tight_layout()\n",
        "plt.show()\n"
      ],
      "metadata": {
        "colab": {
          "base_uri": "https://localhost:8080/",
          "height": 588
        },
        "id": "ogDJ5X_BwrxS",
        "outputId": "34e84672-39eb-4276-f38e-215e4dd204ca"
      },
      "execution_count": null,
      "outputs": [
        {
          "output_type": "display_data",
          "data": {
            "text/plain": [
              "<Figure size 1000x600 with 1 Axes>"
            ],
            "image/png": "[encoded data removed]"
          },
          "metadata": {}
        }
      ]
    },
    {
      "cell_type": "code",
      "source": [
        "import pandas as pd\n",
        "from datetime import datetime\n",
        "\n",
        "# Function to parse different time formats into datetime objects\n",
        "def parse_time1(timestamp):\n",
        "    # Example format: \"2024-06-28 20:30:01.302126 +0200\"\n",
        "    # Split the timestamp to separate time and timezone info if space exists\n",
        "    if ' ' in timestamp:\n",
        "        time_part, tz_part = timestamp.rsplit(' ', 1)\n",
        "        dt = datetime.strptime(time_part, \"%Y-%m-%d %H:%M:%S.%f\")\n",
        "        return dt.replace(tzinfo=datetime.strptime(tz_part, '%z').tzinfo)\n",
        "    else:\n",
        "        return datetime.strptime(timestamp, \"%H:%M:%S.%f\")\n",
        "\n",
        "def parse_time2(timestamp):\n",
        "    # Example format: \"20:29:34.795222\"\n",
        "    return datetime.strptime(timestamp, \"%H:%M:%S.%f\")\n",
        "\n",
        "# Function to round datetime to nearest hour and minute\n",
        "def round_to_hour_minute(dt):\n",
        "    return dt.replace(second=0, microsecond=0)\n",
        "\n",
        "# Read CSV files into pandas DataFrames\n",
        "df1 = pd.read_csv('/content/p11.csv')\n",
        "df2 = pd.read_csv('/content/Untitled Folder/P1.test_blink_detection.csv', sep=';')\n",
        "\n",
        "# Convert timestamps to datetime objects using the respective parsing functions\n",
        "df1['input_ended'] = df1['input_ended'].apply(parse_time1)\n",
        "df2['time'] = df2['time'].apply(parse_time2)  # Adjust column name to match your actual CSV\n",
        "\n",
        "# Round timestamps to nearest hour and minute\n",
        "df1['input_ended_rounded'] = df1['input_ended'].apply(round_to_hour_minute)\n",
        "df2['time_rounded'] = df2['time'].apply(round_to_hour_minute)\n",
        "\n",
        "# Merge based on approximate hour and minute and blink condition\n",
        "merged_df = pd.merge(df1, df2[df2['blink']],\n",
        "                     left_on='input_ended_rounded', right_on='time_rounded',\n",
        "                     how='inner')\n",
        "\n",
        "# Count occurrences of blink = True for each digit_sequence\n",
        "blink_counts = merged_df.groupby('digit_sequence').size().reset_index(name='blink_true_count')\n",
        "\n",
        "# Print or use blink_counts as needed\n",
        "print(blink_counts)\n"
      ],
      "metadata": {
        "colab": {
          "base_uri": "https://localhost:8080/"
        },
        "id": "9jbO34bW1R4T",
        "outputId": "8945164d-52cc-4744-9c42-e41e9e725a63"
      },
      "execution_count": null,
      "outputs": [
        {
          "output_type": "stream",
          "name": "stdout",
          "text": [
            "    digit_sequence  blink_true_count\n",
            "0               36                13\n",
            "1               59                13\n",
            "2               86                31\n",
            "3              139                31\n",
            "4              186                31\n",
            "5              230                13\n",
            "6              249                13\n",
            "7              281                31\n",
            "8              325                13\n",
            "9              328                31\n",
            "10             470                13\n",
            "11             487                31\n",
            "12             631                31\n",
            "13             824                13\n",
            "14             840                13\n",
            "15            2789                28\n",
            "16            2843                15\n",
            "17            5961                17\n",
            "18            9826                15\n",
            "19           14796                15\n",
            "20           16583                28\n",
            "21           19087                15\n",
            "22           19580                15\n",
            "23           21563                17\n",
            "24           25134                17\n",
            "25           32176                28\n",
            "26           49017                15\n",
            "27           51732                17\n",
            "28           73198                28\n",
            "29           94201                17\n",
            "30         7384126                27\n",
            "31         9618547                16\n",
            "32        21069873                27\n",
            "33        26578130                27\n",
            "34        37825190                27\n",
            "35        42508679                11\n",
            "36        50481963                11\n",
            "37        60917435                11\n",
            "38        64389125                16\n",
            "39        72509864                27\n",
            "40        73805692                16\n",
            "41        83962501                11\n",
            "42        85107496                27\n"
          ]
        }
      ]
    },
    {
      "cell_type": "code",
      "source": [
        "import pandas as pd\n",
        "from datetime import datetime\n",
        "import os  # Import os module for file operations\n",
        "\n",
        "# Function to parse different time formats into datetime objects\n",
        "def parse_time1(timestamp):\n",
        "    if ' ' in timestamp:\n",
        "        time_part, tz_part = timestamp.rsplit(' ', 1)\n",
        "        dt = datetime.strptime(time_part, \"%Y-%m-%d %H:%M:%S.%f\")\n",
        "        return dt.replace(tzinfo=datetime.strptime(tz_part, '%z').tzinfo)\n",
        "    else:\n",
        "        return datetime.strptime(timestamp, \"%H:%M:%S.%f\")\n",
        "\n",
        "def parse_time2(timestamp):\n",
        "    return datetime.strptime(timestamp, \"%H:%M:%S.%f\")\n",
        "\n",
        "# Function to round datetime to nearest hour and minute\n",
        "def round_to_hour_minute(dt):\n",
        "    return dt.replace(second=0, microsecond=0)\n",
        "\n",
        "# Read CSV files into pandas DataFrames\n",
        "df1 = pd.read_csv('/content/p11.csv')\n",
        "df2 = pd.read_csv('/content/Untitled Folder/P1.test_blink_detection.csv', sep=';')\n",
        "\n",
        "# Convert timestamps to datetime objects using the respective parsing functions\n",
        "df1['input_ended'] = df1['input_ended'].apply(parse_time1)\n",
        "df2['time'] = df2['time'].apply(parse_time2)\n",
        "\n",
        "# Round timestamps to nearest hour and minute\n",
        "df1['input_ended_rounded'] = df1['input_ended'].apply(round_to_hour_minute)\n",
        "df2['time_rounded'] = df2['time'].apply(round_to_hour_minute)\n",
        "\n",
        "# Merge based on approximate hour and minute and blink condition\n",
        "merged_df = pd.merge(df1, df2[df2['blink']],\n",
        "                     left_on='input_ended_rounded', right_on='time_rounded',\n",
        "                     how='inner')\n",
        "\n",
        "# Add a new column for digit count\n",
        "merged_df['digit_count'] = merged_df['digit_sequence'].astype(str).str.len()\n",
        "\n",
        "# Count occurrences of blink = True for each digit_count\n",
        "blink_counts_by_digits = merged_df.groupby('digit_count')['blink'].sum().reset_index(name='blink_true_count')\n",
        "\n",
        "# Add participant identifier column\n",
        "blink_counts_by_digits['participant_id'] = 'p1'\n",
        "\n",
        "# Define output file path\n",
        "output_filename = '/content/blink_counts_all_participants.csv'\n",
        "\n",
        "# Append blink_counts_by_digits to CSV, or create new file if it doesn't exist\n",
        "if not os.path.exists(output_filename):\n",
        "    blink_counts_by_digits.to_csv(output_filename, index=False)\n",
        "else:\n",
        "    # Append data without modifying columns\n",
        "    blink_counts_by_digits.to_csv(output_filename, index=False, mode='a', header=False)\n",
        "\n",
        "print(f\"Blink counts appended to {output_filename}\")\n"
      ],
      "metadata": {
        "colab": {
          "base_uri": "https://localhost:8080/"
        },
        "id": "aG5gTUFp4tcs",
        "outputId": "f4065866-e9cd-41c6-e926-94c26c119ac2"
      },
      "execution_count": null,
      "outputs": [
        {
          "output_type": "stream",
          "name": "stdout",
          "text": [
            "Blink counts appended to /content/blink_counts_all_participants.csv\n"
          ]
        }
      ]
    },
    {
      "cell_type": "code",
      "source": [
        "import pandas as pd\n",
        "from datetime import datetime\n",
        "import os  # Import os module for file operations\n",
        "\n",
        "# Function to parse different time formats into datetime objects\n",
        "def parse_time1(timestamp):\n",
        "    if ' ' in timestamp:\n",
        "        time_part, tz_part = timestamp.rsplit(' ', 1)\n",
        "        dt = datetime.strptime(time_part, \"%Y-%m-%d %H:%M:%S.%f\")\n",
        "        return dt.replace(tzinfo=datetime.strptime(tz_part, '%z').tzinfo)\n",
        "    else:\n",
        "        return datetime.strptime(timestamp, \"%H:%M:%S.%f\")\n",
        "\n",
        "def parse_time2(timestamp):\n",
        "    return datetime.strptime(timestamp, \"%H:%M:%S.%f\")\n",
        "\n",
        "# Function to round datetime to nearest hour and minute\n",
        "def round_to_hour_minute(dt):\n",
        "    return dt.replace(second=0, microsecond=0)\n",
        "\n",
        "# Read CSV files into pandas DataFrames\n",
        "df1 = pd.read_csv('/content/p22.csv')\n",
        "df2 = pd.read_csv('/content/Untitled Folder/p2.test_blink_detection.csv', sep=';')\n",
        "\n",
        "# Convert timestamps to datetime objects using the respective parsing functions\n",
        "df1['input_ended'] = df1['input_ended'].apply(parse_time1)\n",
        "df2['time'] = df2['time'].apply(parse_time2)\n",
        "\n",
        "# Round timestamps to nearest hour and minute\n",
        "df1['input_ended_rounded'] = df1['input_ended'].apply(round_to_hour_minute)\n",
        "df2['time_rounded'] = df2['time'].apply(round_to_hour_minute)\n",
        "\n",
        "# Merge based on approximate hour and minute and blink condition\n",
        "merged_df = pd.merge(df1, df2[df2['blink']],\n",
        "                     left_on='input_ended_rounded', right_on='time_rounded',\n",
        "                     how='inner')\n",
        "\n",
        "# Add a new column for digit count\n",
        "merged_df['digit_count'] = merged_df['digit_sequence'].astype(str).str.len()\n",
        "\n",
        "# Count occurrences of blink = True for each digit_count\n",
        "blink_counts_by_digits = merged_df.groupby('digit_count')['blink'].sum().reset_index(name='blink_true_count')\n",
        "\n",
        "# Add participant identifier column\n",
        "blink_counts_by_digits['participant_id'] = 'p2'\n",
        "\n",
        "# Define output file path\n",
        "output_filename = '/content/blink_counts_all_participants.csv'\n",
        "\n",
        "# Append blink_counts_by_digits to CSV, or create new file if it doesn't exist\n",
        "if not os.path.exists(output_filename):\n",
        "    blink_counts_by_digits.to_csv(output_filename, index=False)\n",
        "else:\n",
        "    # Append data without modifying columns\n",
        "    blink_counts_by_digits.to_csv(output_filename, index=False, mode='a', header=False)\n",
        "\n",
        "print(f\"Blink counts appended to {output_filename}\")\n"
      ],
      "metadata": {
        "colab": {
          "base_uri": "https://localhost:8080/"
        },
        "id": "P6Vu5wm24UMd",
        "outputId": "ea18398e-370f-464c-ece0-783ded7b5afc"
      },
      "execution_count": null,
      "outputs": [
        {
          "output_type": "stream",
          "name": "stdout",
          "text": [
            "Blink counts appended to /content/blink_counts_all_participants.csv\n"
          ]
        }
      ]
    },
    {
      "cell_type": "code",
      "source": [
        "import pandas as pd\n",
        "from datetime import datetime\n",
        "import os  # Import os module for file operations\n",
        "\n",
        "# Function to parse different time formats into datetime objects\n",
        "def parse_time1(timestamp):\n",
        "    if ' ' in timestamp:\n",
        "        time_part, tz_part = timestamp.rsplit(' ', 1)\n",
        "        dt = datetime.strptime(time_part, \"%Y-%m-%d %H:%M:%S.%f\")\n",
        "        return dt.replace(tzinfo=datetime.strptime(tz_part, '%z').tzinfo)\n",
        "    else:\n",
        "        return datetime.strptime(timestamp, \"%H:%M:%S.%f\")\n",
        "\n",
        "def parse_time2(timestamp):\n",
        "    return datetime.strptime(timestamp, \"%H:%M:%S.%f\")\n",
        "\n",
        "# Function to round datetime to nearest hour and minute\n",
        "def round_to_hour_minute(dt):\n",
        "    return dt.replace(second=0, microsecond=0)\n",
        "\n",
        "# Read CSV files into pandas DataFrames\n",
        "df1 = pd.read_csv('/content/P33.csv')\n",
        "df2 = pd.read_csv('/content/Untitled Folder/p3.test_blink_detection.csv', sep=';')\n",
        "\n",
        "# Convert timestamps to datetime objects using the respective parsing functions\n",
        "df1['input_ended'] = df1['input_ended'].apply(parse_time1)\n",
        "df2['time'] = df2['time'].apply(parse_time2)\n",
        "\n",
        "# Round timestamps to nearest hour and minute\n",
        "df1['input_ended_rounded'] = df1['input_ended'].apply(round_to_hour_minute)\n",
        "df2['time_rounded'] = df2['time'].apply(round_to_hour_minute)\n",
        "\n",
        "# Merge based on approximate hour and minute and blink condition\n",
        "merged_df = pd.merge(df1, df2[df2['blink']],\n",
        "                     left_on='input_ended_rounded', right_on='time_rounded',\n",
        "                     how='inner')\n",
        "\n",
        "# Add a new column for digit count\n",
        "merged_df['digit_count'] = merged_df['digit_sequence'].astype(str).str.len()\n",
        "\n",
        "# Count occurrences of blink = True for each digit_count\n",
        "blink_counts_by_digits = merged_df.groupby('digit_count')['blink'].sum().reset_index(name='blink_true_count')\n",
        "\n",
        "# Add participant identifier column\n",
        "blink_counts_by_digits['participant_id'] = 'p3'\n",
        "\n",
        "# Define output file path\n",
        "output_filename = '/content/blink_counts_all_participants.csv'\n",
        "\n",
        "# Append blink_counts_by_digits to CSV, or create new file if it doesn't exist\n",
        "if not os.path.exists(output_filename):\n",
        "    blink_counts_by_digits.to_csv(output_filename, index=False)\n",
        "else:\n",
        "    # Append data without modifying columns\n",
        "    blink_counts_by_digits.to_csv(output_filename, index=False, mode='a', header=False)\n",
        "\n",
        "print(f\"Blink counts appended to {output_filename}\")\n"
      ],
      "metadata": {
        "colab": {
          "base_uri": "https://localhost:8080/"
        },
        "id": "uhOvLxLL4fY_",
        "outputId": "a1818577-f78e-44ab-e61c-f63f9099df41"
      },
      "execution_count": null,
      "outputs": [
        {
          "output_type": "stream",
          "name": "stdout",
          "text": [
            "Blink counts appended to /content/blink_counts_all_participants.csv\n"
          ]
        }
      ]
    },
    {
      "cell_type": "code",
      "source": [
        "import pandas as pd\n",
        "from datetime import datetime\n",
        "import os  # Import os module for file operations\n",
        "\n",
        "# Function to parse different time formats into datetime objects\n",
        "def parse_time1(timestamp):\n",
        "    if ' ' in timestamp:\n",
        "        time_part, tz_part = timestamp.rsplit(' ', 1)\n",
        "        dt = datetime.strptime(time_part, \"%Y-%m-%d %H:%M:%S.%f\")\n",
        "        return dt.replace(tzinfo=datetime.strptime(tz_part, '%z').tzinfo)\n",
        "    else:\n",
        "        return datetime.strptime(timestamp, \"%H:%M:%S.%f\")\n",
        "\n",
        "def parse_time2(timestamp):\n",
        "    return datetime.strptime(timestamp, \"%H:%M:%S.%f\")\n",
        "\n",
        "# Function to round datetime to nearest hour and minute\n",
        "def round_to_hour_minute(dt):\n",
        "    return dt.replace(second=0, microsecond=0)\n",
        "\n",
        "# Read CSV files into pandas DataFrames\n",
        "df1 = pd.read_csv('/content/P44.csv')\n",
        "df2 = pd.read_csv('/content/Untitled Folder/p4.test_blink_detection.csv', sep=';')\n",
        "\n",
        "# Convert timestamps to datetime objects using the respective parsing functions\n",
        "df1['input_ended'] = df1['input_ended'].apply(parse_time1)\n",
        "df2['time'] = df2['time'].apply(parse_time2)\n",
        "\n",
        "# Round timestamps to nearest hour and minute\n",
        "df1['input_ended_rounded'] = df1['input_ended'].apply(round_to_hour_minute)\n",
        "df2['time_rounded'] = df2['time'].apply(round_to_hour_minute)\n",
        "\n",
        "# Merge based on approximate hour and minute and blink condition\n",
        "merged_df = pd.merge(df1, df2[df2['blink']],\n",
        "                     left_on='input_ended_rounded', right_on='time_rounded',\n",
        "                     how='inner')\n",
        "\n",
        "# Add a new column for digit count\n",
        "merged_df['digit_count'] = merged_df['digit_sequence'].astype(str).str.len()\n",
        "\n",
        "# Count occurrences of blink = True for each digit_count\n",
        "blink_counts_by_digits = merged_df.groupby('digit_count')['blink'].sum().reset_index(name='blink_true_count')\n",
        "\n",
        "# Add participant identifier column\n",
        "blink_counts_by_digits['participant_id'] = 'p4'\n",
        "\n",
        "# Define output file path\n",
        "output_filename = '/content/blink_counts_all_participants.csv'\n",
        "\n",
        "# Append blink_counts_by_digits to CSV, or create new file if it doesn't exist\n",
        "if not os.path.exists(output_filename):\n",
        "    blink_counts_by_digits.to_csv(output_filename, index=False)\n",
        "else:\n",
        "    # Append data without modifying columns\n",
        "    blink_counts_by_digits.to_csv(output_filename, index=False, mode='a', header=False)\n",
        "\n",
        "print(f\"Blink counts appended to {output_filename}\")\n"
      ],
      "metadata": {
        "colab": {
          "base_uri": "https://localhost:8080/"
        },
        "id": "2EUkMA-y4n3l",
        "outputId": "e80ee29a-802c-479a-f77d-795a17cb7f72"
      },
      "execution_count": null,
      "outputs": [
        {
          "output_type": "stream",
          "name": "stdout",
          "text": [
            "Blink counts appended to /content/blink_counts_all_participants.csv\n"
          ]
        }
      ]
    },
    {
      "cell_type": "code",
      "source": [
        "import pandas as pd\n",
        "from datetime import datetime\n",
        "import os  # Import os module for file operations\n",
        "\n",
        "# Function to parse different time formats into datetime objects\n",
        "def parse_time1(timestamp):\n",
        "    if ' ' in timestamp:\n",
        "        time_part, tz_part = timestamp.rsplit(' ', 1)\n",
        "        dt = datetime.strptime(time_part, \"%Y-%m-%d %H:%M:%S.%f\")\n",
        "        return dt.replace(tzinfo=datetime.strptime(tz_part, '%z').tzinfo)\n",
        "    else:\n",
        "        return datetime.strptime(timestamp, \"%H:%M:%S.%f\")\n",
        "\n",
        "def parse_time2(timestamp):\n",
        "    return datetime.strptime(timestamp, \"%H:%M:%S.%f\")\n",
        "\n",
        "# Function to round datetime to nearest hour and minute\n",
        "def round_to_hour_minute(dt):\n",
        "    return dt.replace(second=0, microsecond=0)\n",
        "\n",
        "# Read CSV files into pandas DataFrames\n",
        "df1 = pd.read_csv('/content/P55.csv')\n",
        "df2 = pd.read_csv('/content/Untitled Folder/p5.test_blink_detection (2).csv', sep=';')\n",
        "\n",
        "# Convert timestamps to datetime objects using the respective parsing functions\n",
        "df1['input_ended'] = df1['input_ended'].apply(parse_time1)\n",
        "df2['time'] = df2['time'].apply(parse_time2)\n",
        "\n",
        "# Round timestamps to nearest hour and minute\n",
        "df1['input_ended_rounded'] = df1['input_ended'].apply(round_to_hour_minute)\n",
        "df2['time_rounded'] = df2['time'].apply(round_to_hour_minute)\n",
        "\n",
        "# Merge based on approximate hour and minute and blink condition\n",
        "merged_df = pd.merge(df1, df2[df2['blink']],\n",
        "                     left_on='input_ended_rounded', right_on='time_rounded',\n",
        "                     how='inner')\n",
        "\n",
        "# Add a new column for digit count\n",
        "merged_df['digit_count'] = merged_df['digit_sequence'].astype(str).str.len()\n",
        "\n",
        "# Count occurrences of blink = True for each digit_count\n",
        "blink_counts_by_digits = merged_df.groupby('digit_count')['blink'].sum().reset_index(name='blink_true_count')\n",
        "\n",
        "# Add participant identifier column\n",
        "blink_counts_by_digits['participant_id'] = 'p5'\n",
        "\n",
        "# Define output file path\n",
        "output_filename = '/content/blink_counts_all_participants.csv'\n",
        "\n",
        "# Append blink_counts_by_digits to CSV, or create new file if it doesn't exist\n",
        "if not os.path.exists(output_filename):\n",
        "    blink_counts_by_digits.to_csv(output_filename, index=False)\n",
        "else:\n",
        "    # Append data without modifying columns\n",
        "    blink_counts_by_digits.to_csv(output_filename, index=False, mode='a', header=False)\n",
        "\n",
        "print(f\"Blink counts appended to {output_filename}\")\n"
      ],
      "metadata": {
        "colab": {
          "base_uri": "https://localhost:8080/"
        },
        "id": "M_NjRYio470J",
        "outputId": "9242ab6d-ad10-4c06-9fc7-101a808beeaa"
      },
      "execution_count": null,
      "outputs": [
        {
          "output_type": "stream",
          "name": "stdout",
          "text": [
            "Blink counts appended to /content/blink_counts_all_participants.csv\n"
          ]
        }
      ]
    },
    {
      "cell_type": "code",
      "source": [
        "import pandas as pd\n",
        "from datetime import datetime\n",
        "import os  # Import os module for file operations\n",
        "\n",
        "# Function to parse different time formats into datetime objects\n",
        "def parse_time1(timestamp):\n",
        "    if ' ' in timestamp:\n",
        "        time_part, tz_part = timestamp.rsplit(' ', 1)\n",
        "        dt = datetime.strptime(time_part, \"%Y-%m-%d %H:%M:%S.%f\")\n",
        "        return dt.replace(tzinfo=datetime.strptime(tz_part, '%z').tzinfo)\n",
        "    else:\n",
        "        return datetime.strptime(timestamp, \"%H:%M:%S.%f\")\n",
        "\n",
        "def parse_time2(timestamp):\n",
        "    return datetime.strptime(timestamp, \"%H:%M:%S.%f\")\n",
        "\n",
        "# Function to round datetime to nearest hour and minute\n",
        "def round_to_hour_minute(dt):\n",
        "    return dt.replace(second=0, microsecond=0)\n",
        "\n",
        "# Read CSV files into pandas DataFrames\n",
        "df1 = pd.read_csv('/content/P66.csv')\n",
        "df2 = pd.read_csv('/content/Untitled Folder/p6.test_blink_detection.csv', sep=';')\n",
        "\n",
        "# Convert timestamps to datetime objects using the respective parsing functions\n",
        "df1['input_ended'] = df1['input_ended'].apply(parse_time1)\n",
        "df2['time'] = df2['time'].apply(parse_time2)\n",
        "\n",
        "# Round timestamps to nearest hour and minute\n",
        "df1['input_ended_rounded'] = df1['input_ended'].apply(round_to_hour_minute)\n",
        "df2['time_rounded'] = df2['time'].apply(round_to_hour_minute)\n",
        "\n",
        "# Merge based on approximate hour and minute and blink condition\n",
        "merged_df = pd.merge(df1, df2[df2['blink']],\n",
        "                     left_on='input_ended_rounded', right_on='time_rounded',\n",
        "                     how='inner')\n",
        "\n",
        "# Add a new column for digit count\n",
        "merged_df['digit_count'] = merged_df['digit_sequence'].astype(str).str.len()\n",
        "\n",
        "# Count occurrences of blink = True for each digit_count\n",
        "blink_counts_by_digits = merged_df.groupby('digit_count')['blink'].sum().reset_index(name='blink_true_count')\n",
        "\n",
        "# Add participant identifier column\n",
        "blink_counts_by_digits['participant_id'] = 'p6'\n",
        "\n",
        "# Define output file path\n",
        "output_filename = '/content/blink_counts_all_participants.csv'\n",
        "\n",
        "# Append blink_counts_by_digits to CSV, or create new file if it doesn't exist\n",
        "if not os.path.exists(output_filename):\n",
        "    blink_counts_by_digits.to_csv(output_filename, index=False)\n",
        "else:\n",
        "    # Append data without modifying columns\n",
        "    blink_counts_by_digits.to_csv(output_filename, index=False, mode='a', header=False)\n",
        "\n",
        "print(f\"Blink counts appended to {output_filename}\")\n"
      ],
      "metadata": {
        "colab": {
          "base_uri": "https://localhost:8080/"
        },
        "id": "jxCYnHEZ5AM8",
        "outputId": "82d90738-e6a6-431f-df41-1cad90e9e285"
      },
      "execution_count": null,
      "outputs": [
        {
          "output_type": "stream",
          "name": "stdout",
          "text": [
            "Blink counts appended to /content/blink_counts_all_participants.csv\n"
          ]
        }
      ]
    },
    {
      "cell_type": "code",
      "source": [
        "import pandas as pd\n",
        "import matplotlib.pyplot as plt\n",
        "\n",
        "# Step 1: Load the CSV Data\n",
        "file_path = '/content/blink_counts_all_participants.csv'\n",
        "df = pd.read_csv(file_path)\n",
        "\n",
        "# Display the first few rows to understand the structure (optional)\n",
        "print(\"Original Data:\")\n",
        "print(df.head())\n",
        "print()\n",
        "\n",
        "# Step 2: Calculate Average Blink Count and Standard Deviation for each Digital Count\n",
        "average_blink_counts = df.groupby('digit_count')['blink_true_count'].mean()\n",
        "std_dev_blink_counts = df.groupby('digit_count')['blink_true_count'].std()\n",
        "\n",
        "# Display the average blink counts for each digital count\n",
        "print(\"Average Blink Counts for each Digital Count:\")\n",
        "print(average_blink_counts)\n",
        "print()\n",
        "\n",
        "# Step 3: Plotting the Average Blink Counts with Standard Deviation\n",
        "plt.figure(figsize=(10, 6))\n",
        "average_blink_counts.plot(kind='bar', yerr=std_dev_blink_counts, capsize=5)\n",
        "plt.title('Average Blink Counts for Each Digital Count')\n",
        "plt.xlabel('Digital Count')\n",
        "plt.ylabel('Average Blink Count')\n",
        "plt.xticks(rotation=0)\n",
        "plt.grid(axis='y')\n",
        "plt.tight_layout()\n",
        "plt.show()\n"
      ],
      "metadata": {
        "colab": {
          "base_uri": "https://localhost:8080/",
          "height": 920
        },
        "id": "FVxOqKpW8wCK",
        "outputId": "6aa08443-9a0c-4602-e84b-b6e4ef12ad90"
      },
      "execution_count": null,
      "outputs": [
        {
          "output_type": "stream",
          "name": "stdout",
          "text": [
            "Original Data:\n",
            "   digit_count  blink_true_count participant_id\n",
            "0            2                57             p1\n",
            "1            3               264             p1\n",
            "2            4                75             p1\n",
            "3            5               212             p1\n",
            "4            7                43             p1\n",
            "\n",
            "Average Blink Counts for each Digital Count:\n",
            "digit_count\n",
            "2     36.500000\n",
            "3    580.666667\n",
            "4     93.333333\n",
            "5    463.500000\n",
            "7     46.000000\n",
            "8    476.666667\n",
            "Name: blink_true_count, dtype: float64\n",
            "\n"
          ]
        },
        {
          "output_type": "display_data",
          "data": {
            "text/plain": [
              "<Figure size 1000x600 with 1 Axes>"
            ],
            "image/png": "[encoded data removed]"
          },
          "metadata": {}
        }
      ]
    },
    {
      "cell_type": "markdown",
      "source": [
        "For digit_count = 2, the average blink count is 36.5. This suggests that, on average, participants blinked approximately 36.5 times during tasks or periods associated with this digital count.\n",
        "\n",
        "digit_count = 3 shows a notably higher average blink count of 580.7. This indicates a substantial increase in blink frequency compared to other counts, possibly suggesting different task demands or conditions for this category.\n",
        "\n",
        "In the digit_count = 4 category, the average blink count is 93.3. This is lower than digit_count = 3 but still higher than digit_count = 2, implying a moderate blink frequency for this category.\n",
        "\n",
        "For digit_count = 5, the average blink count is 463.5, showing a relatively high blink rate similar to digit_count = 3.\n",
        "\n",
        "digit_count = 7 has an average blink count of 46, indicating a lower blink rate compared to digit_count = 3 and digit_count = 5.\n",
        "\n",
        "Lastly, digit_count = 8 shows an average blink count of 476.7, similar to digit_count = 5, suggesting another category with a relatively high blink frequency."
      ],
      "metadata": {
        "id": "sYs4yBgS-FgL"
      }
    }
  ]
}